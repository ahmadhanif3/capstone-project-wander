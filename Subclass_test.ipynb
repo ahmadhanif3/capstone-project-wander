{
  "cells": [
    {
      "cell_type": "code",
      "execution_count": null,
      "metadata": {
        "colab": {
          "base_uri": "https://localhost:8080/"
        },
        "id": "R_HmqJ_toW1m",
        "outputId": "e17a28cf-adbb-4bd6-d86c-9789127e0219"
      },
      "outputs": [
        {
          "output_type": "stream",
          "name": "stdout",
          "text": [
            "\u001b[?25l     \u001b[90m━━━━━━━━━━━━━━━━━━━━━━━━━━━━━━━━━━━━━━━━\u001b[0m \u001b[32m0.0/96.2 kB\u001b[0m \u001b[31m?\u001b[0m eta \u001b[36m-:--:--\u001b[0m\r\u001b[2K     \u001b[91m━━━━━━━━━━━━━━━━━━━━━━━━━━━━━━━━━━━━━━\u001b[0m\u001b[90m╺\u001b[0m\u001b[90m━\u001b[0m \u001b[32m92.2/96.2 kB\u001b[0m \u001b[31m2.9 MB/s\u001b[0m eta \u001b[36m0:00:01\u001b[0m\r\u001b[2K     \u001b[90m━━━━━━━━━━━━━━━━━━━━━━━━━━━━━━━━━━━━━━━━\u001b[0m \u001b[32m96.2/96.2 kB\u001b[0m \u001b[31m2.3 MB/s\u001b[0m eta \u001b[36m0:00:00\u001b[0m\n",
            "\u001b[?25h"
          ]
        }
      ],
      "source": [
        "!pip install -q tensorflow-recommenders"
      ]
    },
    {
      "cell_type": "code",
      "execution_count": null,
      "metadata": {
        "colab": {
          "base_uri": "https://localhost:8080/"
        },
        "collapsed": true,
        "id": "L7a4xRdfews3",
        "outputId": "d7694af9-735d-48fc-f723-f1cffaea8ddc"
      },
      "outputs": [
        {
          "name": "stdout",
          "output_type": "stream",
          "text": [
            "absl-py==1.4.0\n",
            "aiohttp==3.9.5\n",
            "aiosignal==1.3.1\n",
            "alabaster==0.7.16\n",
            "albumentations==1.3.1\n",
            "altair==4.2.2\n",
            "annotated-types==0.7.0\n",
            "anyio==3.7.1\n",
            "argon2-cffi==23.1.0\n",
            "argon2-cffi-bindings==21.2.0\n",
            "array_record==0.5.1\n",
            "arviz==0.15.1\n",
            "astropy==5.3.4\n",
            "astunparse==1.6.3\n",
            "async-timeout==4.0.3\n",
            "atpublic==4.1.0\n",
            "attrs==23.2.0\n",
            "audioread==3.0.1\n",
            "autograd==1.6.2\n",
            "Babel==2.15.0\n",
            "backcall==0.2.0\n",
            "beautifulsoup4==4.12.3\n",
            "bidict==0.23.1\n",
            "bigframes==1.8.0\n",
            "bleach==6.1.0\n",
            "blinker==1.4\n",
            "blis==0.7.11\n",
            "blosc2==2.0.0\n",
            "bokeh==3.3.4\n",
            "bqplot==0.12.43\n",
            "branca==0.7.2\n",
            "build==1.2.1\n",
            "CacheControl==0.14.0\n",
            "cachetools==5.3.3\n",
            "catalogue==2.0.10\n",
            "certifi==2024.6.2\n",
            "cffi==1.16.0\n",
            "chardet==5.2.0\n",
            "charset-normalizer==3.3.2\n",
            "chex==0.1.86\n",
            "click==8.1.7\n",
            "click-plugins==1.1.1\n",
            "cligj==0.7.2\n",
            "cloudpathlib==0.16.0\n",
            "cloudpickle==2.2.1\n",
            "cmake==3.27.9\n",
            "cmdstanpy==1.2.3\n",
            "colorcet==3.1.0\n",
            "colorlover==0.3.0\n",
            "colour==0.1.5\n",
            "community==1.0.0b1\n",
            "confection==0.1.5\n",
            "cons==0.4.6\n",
            "contextlib2==21.6.0\n",
            "contourpy==1.2.1\n",
            "cryptography==42.0.7\n",
            "cuda-python==12.2.1\n",
            "cudf-cu12 @ https://pypi.nvidia.com/cudf-cu12/cudf_cu12-24.4.1-cp310-cp310-manylinux_2_28_x86_64.whl#sha256=57366e7ef09dc63e0b389aff20df6c37d91e2790065861ee31a4720149f5b694\n",
            "cufflinks==0.17.3\n",
            "cupy-cuda12x==12.2.0\n",
            "cvxopt==1.3.2\n",
            "cvxpy==1.3.4\n",
            "cycler==0.12.1\n",
            "cymem==2.0.8\n",
            "Cython==3.0.10\n",
            "dask==2023.8.1\n",
            "datascience==0.17.6\n",
            "db-dtypes==1.2.0\n",
            "dbus-python==1.2.18\n",
            "debugpy==1.6.6\n",
            "decorator==4.4.2\n",
            "defusedxml==0.7.1\n",
            "distributed==2023.8.1\n",
            "distro==1.7.0\n",
            "dlib==19.24.4\n",
            "dm-tree==0.1.8\n",
            "docstring_parser==0.16\n",
            "docutils==0.18.1\n",
            "dopamine_rl==4.0.9\n",
            "duckdb==0.10.3\n",
            "earthengine-api==0.1.405\n",
            "easydict==1.13\n",
            "ecos==2.0.13\n",
            "editdistance==0.6.2\n",
            "eerepr==0.0.4\n",
            "en-core-web-sm @ https://github.com/explosion/spacy-models/releases/download/en_core_web_sm-3.7.1/en_core_web_sm-3.7.1-py3-none-any.whl#sha256=86cc141f63942d4b2c5fcee06630fd6f904788d2f0ab005cce45aadb8fb73889\n",
            "entrypoints==0.4\n",
            "et-xmlfile==1.1.0\n",
            "etils==1.7.0\n",
            "etuples==0.3.9\n",
            "exceptiongroup==1.2.1\n",
            "fastai==2.7.15\n",
            "fastcore==1.5.43\n",
            "fastdownload==0.0.7\n",
            "fastjsonschema==2.19.1\n",
            "fastprogress==1.0.3\n",
            "fastrlock==0.8.2\n",
            "filelock==3.14.0\n",
            "fiona==1.9.6\n",
            "firebase-admin==5.3.0\n",
            "Flask==2.2.5\n",
            "flatbuffers==24.3.25\n",
            "flax==0.8.4\n",
            "folium==0.14.0\n",
            "fonttools==4.53.0\n",
            "frozendict==2.4.4\n",
            "frozenlist==1.4.1\n",
            "fsspec==2023.6.0\n",
            "future==0.18.3\n",
            "gast==0.5.4\n",
            "gcsfs==2023.6.0\n",
            "GDAL==3.6.4\n",
            "gdown==5.1.0\n",
            "geemap==0.32.1\n",
            "gensim==4.3.2\n",
            "geocoder==1.38.1\n",
            "geographiclib==2.0\n",
            "geopandas==0.13.2\n",
            "geopy==2.3.0\n",
            "gin-config==0.5.0\n",
            "glob2==0.7\n",
            "google==2.0.3\n",
            "google-ai-generativelanguage==0.6.4\n",
            "google-api-core==2.11.1\n",
            "google-api-python-client==2.84.0\n",
            "google-auth==2.27.0\n",
            "google-auth-httplib2==0.1.1\n",
            "google-auth-oauthlib==1.2.0\n",
            "google-cloud-aiplatform==1.52.0\n",
            "google-cloud-bigquery==3.21.0\n",
            "google-cloud-bigquery-connection==1.12.1\n",
            "google-cloud-bigquery-storage==2.25.0\n",
            "google-cloud-core==2.3.3\n",
            "google-cloud-datastore==2.15.2\n",
            "google-cloud-firestore==2.11.1\n",
            "google-cloud-functions==1.13.3\n",
            "google-cloud-iam==2.15.0\n",
            "google-cloud-language==2.13.3\n",
            "google-cloud-resource-manager==1.12.3\n",
            "google-cloud-storage==2.8.0\n",
            "google-cloud-translate==3.11.3\n",
            "google-colab @ file:///colabtools/dist/google-colab-1.0.0.tar.gz#sha256=7e99158efa4f33567b082c99f16f2749948a4aeffafdf13caf9482230a9074ce\n",
            "google-crc32c==1.5.0\n",
            "google-generativeai==0.5.4\n",
            "google-pasta==0.2.0\n",
            "google-resumable-media==2.7.0\n",
            "googleapis-common-protos==1.63.1\n",
            "googledrivedownloader==0.4\n",
            "graphviz==0.20.3\n",
            "greenlet==3.0.3\n",
            "grpc-google-iam-v1==0.13.0\n",
            "grpcio==1.64.1\n",
            "grpcio-status==1.48.2\n",
            "gspread==6.0.2\n",
            "gspread-dataframe==3.3.1\n",
            "gym==0.25.2\n",
            "gym-notices==0.0.8\n",
            "h5netcdf==1.3.0\n",
            "h5py==3.9.0\n",
            "holidays==0.50\n",
            "holoviews==1.17.1\n",
            "html5lib==1.1\n",
            "httpimport==1.3.1\n",
            "httplib2==0.22.0\n",
            "huggingface-hub==0.23.2\n",
            "humanize==4.7.0\n",
            "hyperopt==0.2.7\n",
            "ibis-framework==8.0.0\n",
            "idna==3.7\n",
            "imageio==2.31.6\n",
            "imageio-ffmpeg==0.5.1\n",
            "imagesize==1.4.1\n",
            "imbalanced-learn==0.10.1\n",
            "imgaug==0.4.0\n",
            "immutabledict==4.2.0\n",
            "importlib_metadata==7.1.0\n",
            "importlib_resources==6.4.0\n",
            "imutils==0.5.4\n",
            "inflect==7.0.0\n",
            "iniconfig==2.0.0\n",
            "intel-openmp==2023.2.4\n",
            "ipyevents==2.0.2\n",
            "ipyfilechooser==0.6.0\n",
            "ipykernel==5.5.6\n",
            "ipyleaflet==0.18.2\n",
            "ipython==7.34.0\n",
            "ipython-genutils==0.2.0\n",
            "ipython-sql==0.5.0\n",
            "ipytree==0.2.2\n",
            "ipywidgets==7.7.1\n",
            "itsdangerous==2.2.0\n",
            "jax==0.4.26\n",
            "jaxlib @ https://storage.googleapis.com/jax-releases/cuda12/jaxlib-0.4.26+cuda12.cudnn89-cp310-cp310-manylinux2014_x86_64.whl#sha256=813cf1fe3e7ca4dbf5327d6e7b4fc8521e92d8bba073ee645ae0d5d036a25750\n",
            "jeepney==0.7.1\n",
            "jellyfish==1.0.4\n",
            "jieba==0.42.1\n",
            "Jinja2==3.1.4\n",
            "joblib==1.4.2\n",
            "jsonpickle==3.0.4\n",
            "jsonschema==4.19.2\n",
            "jsonschema-specifications==2023.12.1\n",
            "jupyter-client==6.1.12\n",
            "jupyter-console==6.1.0\n",
            "jupyter-server==1.24.0\n",
            "jupyter_core==5.7.2\n",
            "jupyterlab_pygments==0.3.0\n",
            "jupyterlab_widgets==3.0.11\n",
            "kaggle==1.6.14\n",
            "kagglehub==0.2.5\n",
            "keras==2.15.0\n",
            "keyring==23.5.0\n",
            "kiwisolver==1.4.5\n",
            "langcodes==3.4.0\n",
            "language_data==1.2.0\n",
            "launchpadlib==1.10.16\n",
            "lazr.restfulclient==0.14.4\n",
            "lazr.uri==1.0.6\n",
            "lazy_loader==0.4\n",
            "libclang==18.1.1\n",
            "librosa==0.10.2.post1\n",
            "lightgbm==4.1.0\n",
            "linkify-it-py==2.0.3\n",
            "llvmlite==0.41.1\n",
            "locket==1.0.0\n",
            "logical-unification==0.4.6\n",
            "lxml==4.9.4\n",
            "malloy==2023.1067\n",
            "marisa-trie==1.1.1\n",
            "Markdown==3.6\n",
            "markdown-it-py==3.0.0\n",
            "MarkupSafe==2.1.5\n",
            "matplotlib==3.7.1\n",
            "matplotlib-inline==0.1.7\n",
            "matplotlib-venn==0.11.10\n",
            "mdit-py-plugins==0.4.1\n",
            "mdurl==0.1.2\n",
            "miniKanren==1.0.3\n",
            "missingno==0.5.2\n",
            "mistune==0.8.4\n",
            "mizani==0.9.3\n",
            "mkl==2023.2.0\n",
            "ml-dtypes==0.2.0\n",
            "mlxtend==0.22.0\n",
            "more-itertools==10.1.0\n",
            "moviepy==1.0.3\n",
            "mpmath==1.3.0\n",
            "msgpack==1.0.8\n",
            "multidict==6.0.5\n",
            "multipledispatch==1.0.0\n",
            "multitasking==0.0.11\n",
            "murmurhash==1.0.10\n",
            "music21==9.1.0\n",
            "natsort==8.4.0\n",
            "nbclassic==1.1.0\n",
            "nbclient==0.10.0\n",
            "nbconvert==6.5.4\n",
            "nbformat==5.10.4\n",
            "nest-asyncio==1.6.0\n",
            "networkx==3.3\n",
            "nibabel==4.0.2\n",
            "nltk==3.8.1\n",
            "notebook==6.5.5\n",
            "notebook_shim==0.2.4\n",
            "numba==0.58.1\n",
            "numexpr==2.10.0\n",
            "numpy==1.25.2\n",
            "nvtx==0.2.10\n",
            "oauth2client==4.1.3\n",
            "oauthlib==3.2.2\n",
            "opencv-contrib-python==4.8.0.76\n",
            "opencv-python==4.8.0.76\n",
            "opencv-python-headless==4.10.0.82\n",
            "openpyxl==3.1.3\n",
            "opt-einsum==3.3.0\n",
            "optax==0.2.2\n",
            "orbax-checkpoint==0.4.4\n",
            "osqp==0.6.2.post8\n",
            "packaging==24.0\n",
            "pandas==2.0.3\n",
            "pandas-datareader==0.10.0\n",
            "pandas-gbq==0.19.2\n",
            "pandas-stubs==2.0.3.230814\n",
            "pandocfilters==1.5.1\n",
            "panel==1.3.8\n",
            "param==2.1.0\n",
            "parso==0.8.4\n",
            "parsy==2.1\n",
            "partd==1.4.2\n",
            "pathlib==1.0.1\n",
            "patsy==0.5.6\n",
            "peewee==3.17.5\n",
            "pexpect==4.9.0\n",
            "pickleshare==0.7.5\n",
            "Pillow==9.4.0\n",
            "pip-tools==6.13.0\n",
            "platformdirs==4.2.2\n",
            "plotly==5.15.0\n",
            "plotnine==0.12.4\n",
            "pluggy==1.5.0\n",
            "polars==0.20.2\n",
            "pooch==1.8.1\n",
            "portpicker==1.5.2\n",
            "prefetch-generator==1.0.3\n",
            "preshed==3.0.9\n",
            "prettytable==3.10.0\n",
            "proglog==0.1.10\n",
            "progressbar2==4.2.0\n",
            "prometheus_client==0.20.0\n",
            "promise==2.3\n",
            "prompt_toolkit==3.0.45\n",
            "prophet==1.1.5\n",
            "proto-plus==1.23.0\n",
            "protobuf==3.20.3\n",
            "psutil==5.9.5\n",
            "psycopg2==2.9.9\n",
            "ptyprocess==0.7.0\n",
            "py-cpuinfo==9.0.0\n",
            "py4j==0.10.9.7\n",
            "pyarrow==14.0.2\n",
            "pyarrow-hotfix==0.6\n",
            "pyasn1==0.6.0\n",
            "pyasn1_modules==0.4.0\n",
            "pycocotools==2.0.7\n",
            "pycparser==2.22\n",
            "pydantic==2.7.3\n",
            "pydantic_core==2.18.4\n",
            "pydata-google-auth==1.8.2\n",
            "pydot==1.4.2\n",
            "pydot-ng==2.0.0\n",
            "pydotplus==2.0.2\n",
            "PyDrive==1.3.1\n",
            "PyDrive2==1.6.3\n",
            "pyerfa==2.0.1.4\n",
            "pygame==2.5.2\n",
            "Pygments==2.16.1\n",
            "PyGObject==3.42.1\n",
            "PyJWT==2.3.0\n",
            "pymc==5.10.4\n",
            "pymystem3==0.2.0\n",
            "pynvjitlink-cu12==0.2.3\n",
            "PyOpenGL==3.1.7\n",
            "pyOpenSSL==24.1.0\n",
            "pyparsing==3.1.2\n",
            "pyperclip==1.8.2\n",
            "pyproj==3.6.1\n",
            "pyproject_hooks==1.1.0\n",
            "pyshp==2.3.1\n",
            "PySocks==1.7.1\n",
            "pytensor==2.18.6\n",
            "pytest==7.4.4\n",
            "python-apt @ file:///backend-container/containers/python_apt-0.0.0-cp310-cp310-linux_x86_64.whl#sha256=b209c7165d6061963abe611492f8c91c3bcef4b7a6600f966bab58900c63fefa\n",
            "python-box==7.1.1\n",
            "python-dateutil==2.8.2\n",
            "python-louvain==0.16\n",
            "python-slugify==8.0.4\n",
            "python-utils==3.8.2\n",
            "pytz==2023.4\n",
            "pyviz_comms==3.0.2\n",
            "PyWavelets==1.6.0\n",
            "PyYAML==6.0.1\n",
            "pyzmq==24.0.1\n",
            "qdldl==0.1.7.post2\n",
            "qudida==0.0.4\n",
            "ratelim==0.1.6\n",
            "referencing==0.35.1\n",
            "regex==2024.5.15\n",
            "requests==2.31.0\n",
            "requests-oauthlib==1.3.1\n",
            "requirements-parser==0.9.0\n",
            "rich==13.7.1\n",
            "rmm-cu12==24.4.0\n",
            "rpds-py==0.18.1\n",
            "rpy2==3.4.2\n",
            "rsa==4.9\n",
            "safetensors==0.4.3\n",
            "scikit-image==0.19.3\n",
            "scikit-learn==1.2.2\n",
            "scipy==1.11.4\n",
            "scooby==0.10.0\n",
            "scs==3.2.4.post2\n",
            "seaborn==0.13.1\n",
            "SecretStorage==3.3.1\n",
            "Send2Trash==1.8.3\n",
            "sentencepiece==0.1.99\n",
            "shapely==2.0.4\n",
            "simple_parsing==0.1.5\n",
            "six==1.16.0\n",
            "sklearn-pandas==2.2.0\n",
            "smart-open==6.4.0\n",
            "sniffio==1.3.1\n",
            "snowballstemmer==2.2.0\n",
            "sortedcontainers==2.4.0\n",
            "soundfile==0.12.1\n",
            "soupsieve==2.5\n",
            "soxr==0.3.7\n",
            "spacy==3.7.4\n",
            "spacy-legacy==3.0.12\n",
            "spacy-loggers==1.0.5\n",
            "Sphinx==5.0.2\n",
            "sphinxcontrib-applehelp==1.0.8\n",
            "sphinxcontrib-devhelp==1.0.6\n",
            "sphinxcontrib-htmlhelp==2.0.5\n",
            "sphinxcontrib-jsmath==1.0.1\n",
            "sphinxcontrib-qthelp==1.0.7\n",
            "sphinxcontrib-serializinghtml==1.1.10\n",
            "SQLAlchemy==2.0.30\n",
            "sqlglot==20.11.0\n",
            "sqlparse==0.5.0\n",
            "srsly==2.4.8\n",
            "stanio==0.5.0\n",
            "statsmodels==0.14.2\n",
            "StrEnum==0.4.15\n",
            "sympy==1.12.1\n",
            "tables==3.8.0\n",
            "tabulate==0.9.0\n",
            "tbb==2021.12.0\n",
            "tblib==3.0.0\n",
            "tenacity==8.3.0\n",
            "tensorboard==2.15.2\n",
            "tensorboard-data-server==0.7.2\n",
            "tensorflow @ https://storage.googleapis.com/colab-tf-builds-public-09h6ksrfwbb9g9xv/tensorflow-2.15.0-cp310-cp310-manylinux_2_17_x86_64.manylinux2014_x86_64.whl#sha256=a2ec79931350b378c1ef300ca836b52a55751acb71a433582508a07f0de57c42\n",
            "tensorflow-datasets==4.9.5\n",
            "tensorflow-estimator==2.15.0\n",
            "tensorflow-gcs-config==2.15.0\n",
            "tensorflow-hub==0.16.1\n",
            "tensorflow-io-gcs-filesystem==0.37.0\n",
            "tensorflow-metadata==1.15.0\n",
            "tensorflow-probability==0.23.0\n",
            "tensorflow-recommenders==0.7.3\n",
            "tensorstore==0.1.45\n",
            "termcolor==2.4.0\n",
            "terminado==0.18.1\n",
            "text-unidecode==1.3\n",
            "textblob==0.17.1\n",
            "tf-slim==1.1.0\n",
            "tf_keras==2.15.1\n",
            "thinc==8.2.3\n",
            "threadpoolctl==3.5.0\n",
            "tifffile==2024.5.22\n",
            "tinycss2==1.3.0\n",
            "tokenizers==0.19.1\n",
            "toml==0.10.2\n",
            "tomli==2.0.1\n",
            "toolz==0.12.1\n",
            "torch @ https://download.pytorch.org/whl/cu121/torch-2.3.0%2Bcu121-cp310-cp310-linux_x86_64.whl#sha256=0a12aa9aa6bc442dff8823ac8b48d991fd0771562eaa38593f9c8196d65f7007\n",
            "torchaudio @ https://download.pytorch.org/whl/cu121/torchaudio-2.3.0%2Bcu121-cp310-cp310-linux_x86_64.whl#sha256=38b49393f8c322dcaa29d19e5acbf5a0b1978cf1b719445ab670f1fb486e3aa6\n",
            "torchsummary==1.5.1\n",
            "torchtext==0.18.0\n",
            "torchvision @ https://download.pytorch.org/whl/cu121/torchvision-0.18.0%2Bcu121-cp310-cp310-linux_x86_64.whl#sha256=13e1b48dc5ce41ccb8100ab3dd26fdf31d8f1e904ecf2865ac524493013d0df5\n",
            "tornado==6.3.3\n",
            "tqdm==4.66.4\n",
            "traitlets==5.7.1\n",
            "traittypes==0.2.1\n",
            "transformers==4.41.2\n",
            "triton==2.3.0\n",
            "tweepy==4.14.0\n",
            "typer==0.9.4\n",
            "types-pytz==2024.1.0.20240417\n",
            "types-setuptools==70.0.0.20240524\n",
            "typing_extensions==4.12.1\n",
            "tzdata==2024.1\n",
            "tzlocal==5.2\n",
            "uc-micro-py==1.0.3\n",
            "uritemplate==4.1.1\n",
            "urllib3==2.0.7\n",
            "vega-datasets==0.9.0\n",
            "wadllib==1.3.6\n",
            "wasabi==1.1.3\n",
            "wcwidth==0.2.13\n",
            "weasel==0.3.4\n",
            "webcolors==1.13\n",
            "webencodings==0.5.1\n",
            "websocket-client==1.8.0\n",
            "Werkzeug==3.0.3\n",
            "widgetsnbextension==3.6.6\n",
            "wordcloud==1.9.3\n",
            "wrapt==1.14.1\n",
            "xarray==2023.7.0\n",
            "xarray-einstats==0.7.0\n",
            "xgboost==2.0.3\n",
            "xlrd==2.0.1\n",
            "xyzservices==2024.4.0\n",
            "yarl==1.9.4\n",
            "yellowbrick==1.5\n",
            "yfinance==0.2.40\n",
            "zict==3.0.0\n",
            "zipp==3.19.1\n"
          ]
        }
      ],
      "source": [
        "!pip freeze"
      ]
    },
    {
      "cell_type": "code",
      "execution_count": null,
      "metadata": {
        "id": "nr6UJzutkcb-"
      },
      "outputs": [],
      "source": [
        "import tensorflow as tf\n",
        "import tensorflow_recommenders as tfrs\n",
        "import numpy as np\n",
        "from sklearn.preprocessing import StandardScaler, MultiLabelBinarizer"
      ]
    },
    {
      "cell_type": "code",
      "execution_count": null,
      "metadata": {
        "id": "1dPAt5MgovQE"
      },
      "outputs": [],
      "source": [
        "import pandas as pd\n",
        "from typing import Dict, Text, Optional, List, Any"
      ]
    },
    {
      "cell_type": "markdown",
      "metadata": {
        "id": "InhKs6lEwla4"
      },
      "source": [
        "## ini cmn merge doang"
      ]
    },
    {
      "cell_type": "code",
      "execution_count": null,
      "metadata": {
        "id": "L_OqeP01v1Mk"
      },
      "outputs": [],
      "source": [
        "import json\n",
        "import os"
      ]
    },
    {
      "cell_type": "code",
      "execution_count": null,
      "metadata": {
        "id": "pxdmHd-iv4Cr"
      },
      "outputs": [],
      "source": [
        "# def load_json(file_path):\n",
        "#     with open(file_path, 'r') as file:\n",
        "#         return json.load(file)\n",
        "\n",
        "# def extract_item_values(data, key):\n",
        "#     return [item[key] for item in data]"
      ]
    },
    {
      "cell_type": "code",
      "execution_count": null,
      "metadata": {
        "id": "eMLY5VtwwY6k"
      },
      "outputs": [],
      "source": [
        "# def merge_json_data_from_directory(directory):\n",
        "#     merged_data = []\n",
        "#     for filename in os.listdir(directory):\n",
        "#         if filename.endswith('.json'):\n",
        "#             file_path = os.path.join(directory, filename)\n",
        "#             merged_data.extend(load_json(file_path))\n",
        "#     return merged_data\n",
        "\n",
        "# ta_json_directory = '/content/TA_DS_JSON'\n",
        "# hotel_json_directory = '/content/HOTEL_DS_JSON'"
      ]
    },
    {
      "cell_type": "code",
      "execution_count": null,
      "metadata": {
        "id": "yq4ROEbZwiHA"
      },
      "outputs": [],
      "source": [
        "# ta_data = merge_json_data_from_directory(ta_json_directory)\n",
        "# hotel_data = merge_json_data_from_directory(hotel_json_directory)\n",
        "\n",
        "# with open('merged_ta_data.json', 'w') as ta_file:\n",
        "#     json.dump(ta_data, ta_file, indent=4)\n",
        "\n",
        "# with open('merged_hotel_data.json', 'w') as hotel_file:\n",
        "#     json.dump(hotel_data, hotel_file, indent=4)"
      ]
    },
    {
      "cell_type": "code",
      "execution_count": null,
      "metadata": {
        "id": "_wIt4VFKwpgG"
      },
      "outputs": [],
      "source": [
        "with open('/content/merged_ta_data.json', 'r') as file:\n",
        "    ta_data = json.load(file)\n",
        "\n",
        "# with open('/content/mergedhotels.json', 'r') as file:\n",
        "#     hotel_data = json.load(file)"
      ]
    },
    {
      "cell_type": "markdown",
      "metadata": {
        "id": "pE1E3HSIwjMI"
      },
      "source": [
        "## buat back end"
      ]
    },
    {
      "cell_type": "code",
      "execution_count": null,
      "metadata": {
        "id": "9FIqinNdo2AL"
      },
      "outputs": [],
      "source": [
        "user_data = pd.read_csv('/content/user_with_preferences.csv')\n",
        "hotel_data = pd.read_csv('/content/merged_hotels.csv')\n",
        "\n",
        "# ini berubah / perlu copas\n",
        "scaler = StandardScaler()\n",
        "hotel_data[['rating']] = scaler.fit_transform(hotel_data[['rating']])\n",
        "# sampai sini"
      ]
    },
    {
      "cell_type": "code",
      "execution_count": null,
      "metadata": {
        "id": "Jz_lCc_ccZd6"
      },
      "outputs": [],
      "source": [
        "print(json.dumps(hotel_data[:5], indent=4))"
      ]
    },
    {
      "cell_type": "code",
      "execution_count": null,
      "metadata": {
        "id": "6t8sgNvxccpD"
      },
      "outputs": [],
      "source": [
        "with open('scaled_hotel_data.json', 'w') as file:\n",
        "    json.dump(hotel_data, file, indent=4)"
      ]
    },
    {
      "cell_type": "code",
      "execution_count": null,
      "metadata": {
        "id": "niBPTFN13JWG"
      },
      "outputs": [],
      "source": [
        "mlb = MultiLabelBinarizer()\n",
        "user_data['Preferences'] = user_data['Preferences'].apply(eval)\n",
        "preferences_encoded = mlb.fit_transform(user_data['Preferences'])\n",
        "preferences_df = pd.DataFrame(preferences_encoded, columns=mlb.classes_)\n",
        "user_data = pd.concat([user_data, preferences_df], axis=1)"
      ]
    },
    {
      "cell_type": "code",
      "execution_count": null,
      "metadata": {
        "id": "DA7-DAdhbc0Y"
      },
      "outputs": [],
      "source": [
        "def calculate_middle_point(tour_interests):\n",
        "    if not tour_interests:\n",
        "        return {'lat': None, 'lng': None}\n",
        "    lat_sum = sum(point['lat'] for point in tour_interests)\n",
        "    lng_sum = sum(point['lng'] for point in tour_interests)\n",
        "    middle_lat = lat_sum / len(tour_interests)\n",
        "    middle_lng = lng_sum / len(tour_interests)\n",
        "    return {'user_lat': middle_lat, 'user_lng': middle_lng}"
      ]
    },
    {
      "cell_type": "code",
      "execution_count": null,
      "metadata": {
        "colab": {
          "base_uri": "https://localhost:8080/"
        },
        "id": "T8tdcwWjgooi",
        "outputId": "98b4cb33-b590-40a5-de93-c560d33f1c27"
      },
      "outputs": [
        {
          "output_type": "stream",
          "name": "stdout",
          "text": [
            "[{'formatted_address': '2965+2CR, Air Panas Baru, Air Hangat, Kerinci Regency, Jambi, Indonesia', 'name': 'Pemandangan', 'place_id': 'ChIJQSQQVgCnLS4RnABV6-AMfmw', 'rating': 2.0, 'types': \"['tourist_attraction', 'point_of_interest', 'establishment']\", 'user_ratings_total': 1.0, 'photos': None, 'lat': -1.9898945, 'lng': 101.3585208}, {'formatted_address': 'Jalan Wisata Air Panas Semurup No. 1, Koto Baru Semurup, Air Hangat, Air Panas Baru, Kec. Air Hangat, Kabupaten Kerinci, Jambi 37161, Indonesia', 'name': 'Air Panas Semurup', 'place_id': 'ChIJdXJozXenLS4RCQzic-sTdTE', 'rating': 4.0, 'types': \"['tourist_attraction', 'point_of_interest', 'establishment']\", 'user_ratings_total': 462.0, 'photos': '[{\\'height\\': 3120, \\'html_attributions\\': [\\'<a href=\"https://maps.google.com/maps/contrib/106484250746157401405\">Ardiansyah Ahmad</a>\\'], \\'photo_reference\\': \\'AUGGfZljEfmWTYe_pVNVzsh57W0f6NhhqO8IkaWatHG3mryAI_PBQzcPxoeyVHnjxesRITSAOVo9a1ovJDEkYuVgBdPZonpUCw_zeF4o7OFtxYkNAJXzeD25FfSkUSX9o8GHf-LBLDSUDLuMVeu2mLvw1zREUZMk7QfrW8kYfjA4kgOwNNY3\\', \\'width\\': 4160}]', 'lat': -1.9882935, 'lng': 101.3571941}, {'formatted_address': 'X9VM+3CM, Koto Majidin Mudik, Air Hangat, Kerinci Regency, Jambi 37161, Indonesia', 'name': 'Tebat Air Koto Majidin', 'place_id': 'ChIJwy_KkB-nLS4R5j24lLqs3Jg', 'rating': 4.0, 'types': \"['tourist_attraction', 'point_of_interest', 'establishment']\", 'user_ratings_total': 1.0, 'photos': None, 'lat': -2.0072808, 'lng': 101.3835353}, {'formatted_address': '29RP+J42, Pendung Mudik, Air Hangat, Kerinci Regency, Jambi 37161, Indonesia', 'name': 'Air Terjun Pendung Mudik', 'place_id': 'ChIJ2clsM7inLS4RKdXhYpp_BCQ', 'rating': 4.2, 'types': \"['tourist_attraction', 'point_of_interest', 'establishment']\", 'user_ratings_total': 13.0, 'photos': '[{\\'height\\': 3472, \\'html_attributions\\': [\\'<a href=\"https://maps.google.com/maps/contrib/110663323509198362799\">Arief Maula</a>\\'], \\'photo_reference\\': \\'AUGGfZlQvlAFpiTuQdwpyTclaFUxjIskDN9L6JszJFV8SLMF4D8roDSzQOLvE-E7icYZ9fwtppd-L7PyRWtwSq1Aipnpqqm6YPyeBSbetguZThQjGW0RATG_ZwnkNJ5EXgxxzcqZIzNL9WgHL4kkqD-m9hjf2c5qPNRS07fzv7Sb3gn1ddfc\\', \\'width\\': 4624}]', 'lat': -1.9584894, 'lng': 101.3852541}, {'formatted_address': 'X9R6+VCV, Pasar Semurup, Air Hangat, Kerinci Regency, Jambi 37161, Indonesia', 'name': 'Kebun jeruk arumi&hanum', 'place_id': 'ChIJW6do0-qnLS4RkQBtatZnMRQ', 'rating': 0.0, 'types': \"['tourist_attraction', 'point_of_interest', 'establishment']\", 'user_ratings_total': 0.0, 'photos': None, 'lat': -2.0077099, 'lng': 101.3613311}]\n",
            "\n",
            "Pemandangan\n",
            "Air Panas Semurup\n",
            "Tebat Air Koto Majidin\n",
            "Air Terjun Pendung Mudik\n",
            "Kebun jeruk arumi&hanum\n"
          ]
        }
      ],
      "source": [
        "# misal ambil nama TA di sini\n",
        "\n",
        "print(ta_data[:5])\n",
        "print()\n",
        "print(ta_data[0]['name'])\n",
        "print(ta_data[1]['name'])\n",
        "print(ta_data[2]['name'])\n",
        "print(ta_data[3]['name'])\n",
        "print(ta_data[4]['name'])"
      ]
    },
    {
      "cell_type": "code",
      "execution_count": null,
      "metadata": {
        "id": "FTtMDl66bdnN"
      },
      "outputs": [],
      "source": [
        "# ambil bbrp TA coba\n",
        "\n",
        "# ini berubah / perlu copas\n",
        "ta_dict = {item['name']: {'lat': item['lat'], 'lng': item['lng']} for item in ta_data}\n",
        "hotel_dict = {row['name']: {'lat': row['lat'], 'lng': row['lng']} for _, row in hotel_data.iterrows()}\n",
        "\n",
        "def dptin_kordinat(name: str, data_dict: Dict[str, Dict[str, float]]) -> Optional[Dict[str, float]]:\n",
        "  return data_dict.get(name)\n",
        "\n",
        "destinasi_1 = dptin_kordinat(\"Air Panas Semurup\", ta_dict)\n",
        "destinasi_2 = dptin_kordinat(\"Tebat Air Koto Majidin\", ta_dict)\n",
        "destinasi_3 = dptin_kordinat(\"Air Terjun Pendung Mudik\", ta_dict)\n",
        "destinasi_4 = dptin_kordinat(\"Kebun jeruk arumi&hanum\", ta_dict)\n",
        "\n",
        "tour_interests = [destinasi_1, destinasi_2, destinasi_3, destinasi_4]\n",
        "# sampai sini"
      ]
    },
    {
      "cell_type": "code",
      "execution_count": null,
      "metadata": {
        "colab": {
          "base_uri": "https://localhost:8080/"
        },
        "id": "Y9EKTxGehtOW",
        "outputId": "a6b20566-6a7d-4718-9d07-2293741a00b5"
      },
      "outputs": [
        {
          "output_type": "stream",
          "name": "stdout",
          "text": [
            "Middle Point: {'user_lat': -1.9904434000000002, 'user_lng': 101.37182865}\n"
          ]
        }
      ],
      "source": [
        "middle_point = calculate_middle_point(tour_interests)\n",
        "print(f\"Middle Point: {middle_point}\")"
      ]
    },
    {
      "cell_type": "code",
      "execution_count": null,
      "metadata": {
        "id": "8F6ZBvPt5bpc"
      },
      "outputs": [],
      "source": [
        "# middle_point = {'user_lat': -6.487506666666666, 'user_lng': 106.84090666666667}\n",
        "# -6.4454293920692765, 106.86835709915543 rumah mat\n",
        "# -6.487506666666666, 106.84090666666667\n",
        "\n",
        "def haversine(lat1, lon1, lat2, lon2):\n",
        "    R = 6371  # Radius of the Earth in kilometers\n",
        "    dlat = np.radians(lat2 - lat1)\n",
        "    dlon = np.radians(lon2 - lon1)\n",
        "    a = np.sin(dlat / 2) ** 2 + np.cos(np.radians(lat1)) * np.cos(np.radians(lat2)) * np.sin(dlon / 2) ** 2\n",
        "    c = 2 * np.arctan2(np.sqrt(a), np.sqrt(1 - a))\n",
        "    distance = R * c\n",
        "    return distance\n",
        "\n",
        "\n",
        "\n",
        "# setiap get lat/lng yg baru perlu run ginian\n",
        "# ini berubah / perlu copas\n",
        "def distances(middle_point: Dict[str, float], data: pd.DataFrame) -> pd.DataFrame:\n",
        "    data['distance'] = data.apply(lambda row: haversine(middle_point['user_lat'], middle_point['user_lng'], row['lat'], row['lng']), axis=1)\n",
        "    return data\n",
        "\n",
        "def normalize_distances(data: pd.DataFrame) -> pd.DataFrame:\n",
        "    distances = data['distance'].values.reshape(-1, 1)\n",
        "    scaler = StandardScaler()\n",
        "    data['distance_normalized'] = scaler.fit_transform(distances)\n",
        "    return data\n",
        "\n",
        "hotel_data = distances(middle_point, hotel_data)\n",
        "hotel_data = normalize_distances(hotel_data)\n",
        "# sampai sini\n",
        "\n",
        "# hotel_data['distance'] = hotel_data.apply(lambda row: haversine(middle_point['user_lat'], middle_point['user_lng'], row['lat'], row['lng']), axis=1)\n",
        "# hotel_data['distance_normalized'] = scaler.fit_transform(hotel_data[['distance']])"
      ]
    },
    {
      "cell_type": "code",
      "execution_count": null,
      "metadata": {
        "id": "ZLnol9Cun1YZ"
      },
      "outputs": [],
      "source": [
        "class RankingModel(tfrs.Model):\n",
        "    def __init__(self):\n",
        "        super().__init__()\n",
        "        embedding_dimension = 32\n",
        "\n",
        "        unique_hotel_names = hotel_data[\"name\"].astype(str).unique()\n",
        "\n",
        "        self.hotel_embeddings = tf.keras.Sequential([\n",
        "            tf.keras.layers.StringLookup(vocabulary=unique_hotel_names, mask_token=None),\n",
        "            tf.keras.layers.Embedding(len(unique_hotel_names) + 1, embedding_dimension)\n",
        "        ])\n",
        "\n",
        "        # ini berubah / perlu copas\n",
        "        self.user_preference_embeddings = tf.keras.layers.Embedding(len(mlb.classes_) + 1, embedding_dimension)\n",
        "\n",
        "        self.rating_model = tf.keras.Sequential([\n",
        "            tf.keras.layers.Dense(256, activation=\"relu\"),\n",
        "            tf.keras.layers.Dense(64, activation=\"relu\"),\n",
        "            tf.keras.layers.Dense(1)\n",
        "        ])\n",
        "\n",
        "        self.task = tfrs.tasks.Ranking(\n",
        "            loss=tf.keras.losses.MeanSquaredError(),\n",
        "            metrics=[tf.keras.metrics.RootMeanSquaredError()]\n",
        "        )\n",
        "\n",
        "    def call(self, features: Dict[Text, tf.Tensor]) -> tf.Tensor:\n",
        "        hotel_embeddings = self.hotel_embeddings(features[\"hotel_name\"])\n",
        "        distance_normalized_expanded = tf.expand_dims(features[\"distance_normalized\"], axis=1)\n",
        "        rating_expanded = tf.expand_dims(features[\"rating\"], axis=1)\n",
        "        user_preferences = tf.reduce_sum(self.user_preference_embeddings(features[\"preferences\"]), axis=1)\n",
        "        concatenated = tf.concat([hotel_embeddings, distance_normalized_expanded, rating_expanded, user_preferences], axis=1)\n",
        "        return self.rating_model(concatenated)\n",
        "\n",
        "    def compute_loss(self, features: Dict[Text, tf.Tensor], training=False) -> tf.Tensor:\n",
        "        labels = features.pop(\"ranking_score\")\n",
        "        predictions = self(features)\n",
        "        return self.task(labels=labels, predictions=predictions)"
      ]
    },
    {
      "cell_type": "code",
      "execution_count": null,
      "metadata": {
        "id": "3UmoHpx8oQ4F"
      },
      "outputs": [],
      "source": [
        "from collections import Counter\n",
        "\n",
        "# Extract hotel names\n",
        "hotel_names = [hotel_data[\"name\"] for hotel in hotel_data]\n",
        "\n",
        "# Find duplicates\n",
        "duplicate_names = [item for item, count in Counter(hotel_names).items() if count > 1]\n",
        "\n",
        "print(f\"Duplicate hotel names: {duplicate_names}\")"
      ]
    },
    {
      "cell_type": "code",
      "execution_count": null,
      "metadata": {
        "id": "FLc-24rkoRtr"
      },
      "outputs": [],
      "source": [
        "def ensure_unique_names(data):\n",
        "    name_count = Counter(hotel[\"name\"] for hotel in data)\n",
        "    unique_data = []\n",
        "    seen = {}\n",
        "    for hotel in data:\n",
        "        name = hotel[\"name\"]\n",
        "        if name_count[name] > 1:\n",
        "            if name not in seen:\n",
        "                seen[name] = 1\n",
        "            else:\n",
        "                seen[name] += 1\n",
        "            unique_name = f\"{name}_{seen[name]}\"\n",
        "            hotel[\"name\"] = unique_name\n",
        "        unique_data.append(hotel)\n",
        "\n",
        "    return unique_data\n",
        "\n",
        "hotel_data_baru = ensure_unique_names(hotel_data)"
      ]
    },
    {
      "cell_type": "code",
      "execution_count": null,
      "metadata": {
        "id": "v4Dv2uKfsGdO"
      },
      "outputs": [],
      "source": [
        "print(json.dumps(hotel_data_baru[-50:], indent=2))"
      ]
    },
    {
      "cell_type": "code",
      "execution_count": null,
      "metadata": {
        "id": "DLKBi6E5n_2Q"
      },
      "outputs": [],
      "source": [
        "with open('model_architecture.json', 'r') as f:\n",
        "    model_json = f.read()\n",
        "    model = tf.keras.models.model_from_json(model_json, custom_objects={'RankingModel': RankingModel})"
      ]
    },
    {
      "cell_type": "code",
      "execution_count": null,
      "metadata": {
        "id": "cifQwNiP3mLp"
      },
      "outputs": [],
      "source": [
        "model = RankingModel()\n",
        "\n",
        "dummy_input = {\n",
        "    \"hotel_name\": tf.constant([\"dummy_hotel\"]),\n",
        "    \"distance_normalized\": tf.constant([-0.041947]),\n",
        "    \"rating\": tf.constant([4.0]),\n",
        "    \"preferences\": tf.constant([[0, 1, 0, 1, 0,\n",
        "                                 1, 0, 0, 0, 0,\n",
        "                                 0, 0, 0, 0, 0,\n",
        "                                 0, 0, 1]])\n",
        "}\n",
        "_ = model(dummy_input)\n"
      ]
    },
    {
      "cell_type": "code",
      "execution_count": null,
      "metadata": {
        "id": "kcHuEZoJoAb6",
        "colab": {
          "base_uri": "https://localhost:8080/",
          "height": 304
        },
        "outputId": "44184eeb-d006-4592-cfd9-45f4273b30e7"
      },
      "outputs": [
        {
          "output_type": "error",
          "ename": "ValueError",
          "evalue": "Cannot assign value to variable ' embedding_2/embeddings:0': Shape mismatch.The variable shape (20831, 32), and the assigned value shape (231, 32) are incompatible.",
          "traceback": [
            "\u001b[0;31m---------------------------------------------------------------------------\u001b[0m",
            "\u001b[0;31mValueError\u001b[0m                                Traceback (most recent call last)",
            "\u001b[0;32m<ipython-input-38-cc8d3a1153ce>\u001b[0m in \u001b[0;36m<cell line: 1>\u001b[0;34m()\u001b[0m\n\u001b[0;32m----> 1\u001b[0;31m \u001b[0mmodel\u001b[0m\u001b[0;34m.\u001b[0m\u001b[0mload_weights\u001b[0m\u001b[0;34m(\u001b[0m\u001b[0;34m'model_weights_stdrecommend.h5'\u001b[0m\u001b[0;34m)\u001b[0m\u001b[0;34m\u001b[0m\u001b[0;34m\u001b[0m\u001b[0m\n\u001b[0m",
            "\u001b[0;32m/usr/local/lib/python3.10/dist-packages/keras/src/utils/traceback_utils.py\u001b[0m in \u001b[0;36merror_handler\u001b[0;34m(*args, **kwargs)\u001b[0m\n\u001b[1;32m     68\u001b[0m             \u001b[0;31m# To get the full stack trace, call:\u001b[0m\u001b[0;34m\u001b[0m\u001b[0;34m\u001b[0m\u001b[0m\n\u001b[1;32m     69\u001b[0m             \u001b[0;31m# `tf.debugging.disable_traceback_filtering()`\u001b[0m\u001b[0;34m\u001b[0m\u001b[0;34m\u001b[0m\u001b[0m\n\u001b[0;32m---> 70\u001b[0;31m             \u001b[0;32mraise\u001b[0m \u001b[0me\u001b[0m\u001b[0;34m.\u001b[0m\u001b[0mwith_traceback\u001b[0m\u001b[0;34m(\u001b[0m\u001b[0mfiltered_tb\u001b[0m\u001b[0;34m)\u001b[0m \u001b[0;32mfrom\u001b[0m \u001b[0;32mNone\u001b[0m\u001b[0;34m\u001b[0m\u001b[0;34m\u001b[0m\u001b[0m\n\u001b[0m\u001b[1;32m     71\u001b[0m         \u001b[0;32mfinally\u001b[0m\u001b[0;34m:\u001b[0m\u001b[0;34m\u001b[0m\u001b[0;34m\u001b[0m\u001b[0m\n\u001b[1;32m     72\u001b[0m             \u001b[0;32mdel\u001b[0m \u001b[0mfiltered_tb\u001b[0m\u001b[0;34m\u001b[0m\u001b[0;34m\u001b[0m\u001b[0m\n",
            "\u001b[0;32m/usr/local/lib/python3.10/dist-packages/keras/src/backend.py\u001b[0m in \u001b[0;36m_assign_value_to_variable\u001b[0;34m(variable, value)\u001b[0m\n\u001b[1;32m   4357\u001b[0m     \u001b[0;32melse\u001b[0m\u001b[0;34m:\u001b[0m\u001b[0;34m\u001b[0m\u001b[0;34m\u001b[0m\u001b[0m\n\u001b[1;32m   4358\u001b[0m         \u001b[0;31m# For the normal tf.Variable assign\u001b[0m\u001b[0;34m\u001b[0m\u001b[0;34m\u001b[0m\u001b[0m\n\u001b[0;32m-> 4359\u001b[0;31m         \u001b[0mvariable\u001b[0m\u001b[0;34m.\u001b[0m\u001b[0massign\u001b[0m\u001b[0;34m(\u001b[0m\u001b[0mvalue\u001b[0m\u001b[0;34m)\u001b[0m\u001b[0;34m\u001b[0m\u001b[0;34m\u001b[0m\u001b[0m\n\u001b[0m\u001b[1;32m   4360\u001b[0m \u001b[0;34m\u001b[0m\u001b[0m\n\u001b[1;32m   4361\u001b[0m \u001b[0;34m\u001b[0m\u001b[0m\n",
            "\u001b[0;31mValueError\u001b[0m: Cannot assign value to variable ' embedding_2/embeddings:0': Shape mismatch.The variable shape (20831, 32), and the assigned value shape (231, 32) are incompatible."
          ]
        }
      ],
      "source": [
        "model.load_weights('model_weights_stdrecommend.h5')"
      ]
    },
    {
      "cell_type": "code",
      "execution_count": null,
      "metadata": {
        "id": "vBilBLnU4a5N"
      },
      "outputs": [],
      "source": [
        "def rank_hotels(user_id, top_n):\n",
        "    user_preferences = user_data.loc[user_data['User_Id'] == user_id, mlb.classes_].values.flatten()\n",
        "    print(user_preferences)\n",
        "    hotel_data = {\n",
        "        \"hotel_name\": tf.constant(hotel_data[\"name\"].tolist()),\n",
        "        \"distance_normalized\": tf.constant(hotel_data[\"distance_normalized\"].tolist(), dtype=tf.float32),\n",
        "        \"rating\": tf.constant(hotel_data[\"rating\"].tolist(), dtype=tf.float32),\n",
        "        \"preferences\": tf.constant([user_preferences] * len(hotel_data), dtype=tf.float32)\n",
        "    }\n",
        "    predictions = model(hotel_data)\n",
        "    hotel_data[\"predicted_ranking_score\"] = predictions.numpy().flatten()\n",
        "    ranked_hotels = hotel_data.sort_values(by=\"predicted_ranking_score\", ascending=False).head(top_n)\n",
        "    return ranked_hotels[[\"name\", \"formatted_address\", \"distance\", \"rating\", \"predicted_ranking_score\", \"photos\"]]"
      ]
    },
    {
      "cell_type": "code",
      "execution_count": null,
      "metadata": {
        "id": "xX8tejl04vim"
      },
      "outputs": [],
      "source": [
        "print(middle_point)\n",
        "user_id = 1\n",
        "top_hotels = rank_hotels(user_id, top_n=15)\n",
        "print(top_hotels)"
      ]
    }
  ],
  "metadata": {
    "colab": {
      "provenance": []
    },
    "kernelspec": {
      "display_name": "Python 3",
      "name": "python3"
    },
    "language_info": {
      "name": "python"
    }
  },
  "nbformat": 4,
  "nbformat_minor": 0
}