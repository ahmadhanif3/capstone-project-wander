{
  "cells": [
    {
      "cell_type": "markdown",
      "source": [
        "###Libraries Installation and Import"
      ],
      "metadata": {
        "id": "DPNw6K58uVTd"
      }
    },
    {
      "cell_type": "code",
      "execution_count": null,
      "metadata": {
        "colab": {
          "base_uri": "https://localhost:8080/"
        },
        "collapsed": true,
        "id": "jNCCgh-FISMI",
        "outputId": "d0958b2b-83b2-4824-917d-c93a26e59311"
      },
      "outputs": [
        {
          "output_type": "stream",
          "name": "stdout",
          "text": [
            "\u001b[?25l     \u001b[90m━━━━━━━━━━━━━━━━━━━━━━━━━━━━━━━━━━━━━━━━\u001b[0m \u001b[32m0.0/96.2 kB\u001b[0m \u001b[31m?\u001b[0m eta \u001b[36m-:--:--\u001b[0m\r\u001b[2K     \u001b[91m━━━━━━━━━━━━━━━━━━━━━━━━━\u001b[0m\u001b[91m╸\u001b[0m\u001b[90m━━━━━━━━━━━━━━\u001b[0m \u001b[32m61.4/96.2 kB\u001b[0m \u001b[31m1.6 MB/s\u001b[0m eta \u001b[36m0:00:01\u001b[0m\r\u001b[2K     \u001b[90m━━━━━━━━━━━━━━━━━━━━━━━━━━━━━━━━━━━━━━━━\u001b[0m \u001b[32m96.2/96.2 kB\u001b[0m \u001b[31m1.4 MB/s\u001b[0m eta \u001b[36m0:00:00\u001b[0m\n",
            "\u001b[?25h"
          ]
        }
      ],
      "source": [
        "!pip install -q tensorflow-recommenders"
      ]
    },
    {
      "cell_type": "code",
      "execution_count": null,
      "metadata": {
        "id": "6p6nB6UUI5S7"
      },
      "outputs": [],
      "source": [
        "import tensorflow as tf\n",
        "import tensorflow_recommenders as tfrs\n",
        "import pandas as pd\n",
        "import numpy as np\n",
        "import json\n",
        "from sklearn.preprocessing import StandardScaler, MultiLabelBinarizer\n",
        "from sklearn.model_selection import train_test_split\n",
        "from typing import Dict, Text, List, Optional, Any"
      ]
    },
    {
      "cell_type": "markdown",
      "source": [
        "###Data Preparation"
      ],
      "metadata": {
        "id": "V6SVzgS3uY7-"
      }
    },
    {
      "cell_type": "code",
      "source": [
        "with open('/content/merged_ta_data.json', 'r') as file:\n",
        "    ta_data = json.load(file)"
      ],
      "metadata": {
        "id": "_EUHxDl0pvS7"
      },
      "execution_count": null,
      "outputs": []
    },
    {
      "cell_type": "code",
      "execution_count": null,
      "metadata": {
        "id": "HmVn4W8QcaMm"
      },
      "outputs": [],
      "source": [
        "user_data = pd.read_csv('/content/user_with_preferences.csv')\n",
        "hotel_data = pd.read_csv('/content/merged_hotels.csv')\n",
        "\n",
        "scaler = StandardScaler()\n",
        "hotel_data[['rating']] = scaler.fit_transform(hotel_data[['rating']])"
      ]
    },
    {
      "cell_type": "code",
      "source": [
        "mlb = MultiLabelBinarizer()\n",
        "user_data['Preferences'] = user_data['Preferences'].apply(eval)\n",
        "preferences_encoded = mlb.fit_transform(user_data['Preferences'])\n",
        "preferences_df = pd.DataFrame(preferences_encoded, columns=mlb.classes_)\n",
        "user_data = pd.concat([user_data, preferences_df], axis=1)"
      ],
      "metadata": {
        "id": "mb6LeAtJEphU"
      },
      "execution_count": null,
      "outputs": []
    },
    {
      "cell_type": "markdown",
      "source": [
        "###Function\n",
        "\n"
      ],
      "metadata": {
        "id": "YyHKRdndvMRl"
      }
    },
    {
      "cell_type": "code",
      "execution_count": null,
      "metadata": {
        "id": "q13VwcPIchJg"
      },
      "outputs": [],
      "source": [
        "def calculate_middle_point(tour_interests):\n",
        "    if not tour_interests:\n",
        "        return {'lat': None, 'lng': None}\n",
        "    lat_sum = sum(point['lat'] for point in tour_interests)\n",
        "    lng_sum = sum(point['lng'] for point in tour_interests)\n",
        "    middle_lat = lat_sum / len(tour_interests)\n",
        "    middle_lng = lng_sum / len(tour_interests)\n",
        "    return {'user_lat': middle_lat, 'user_lng': middle_lng}\n",
        "\n",
        "ta_dict = {item['name']: {'lat': item['lat'], 'lng': item['lng']} for item in ta_data}\n",
        "hotel_dict = {row['name']: {'lat': row['lat'], 'lng': row['lng']} for _, row in hotel_data.iterrows()}\n",
        "\n",
        "def dptin_kordinat(name: str, data_dict: Dict[str, Dict[str, float]]) -> Optional[Dict[str, float]]:\n",
        "  return data_dict.get(name)\n",
        "\n",
        "destinasi_1 = dptin_kordinat(\"Air Panas Semurup\", ta_dict)\n",
        "destinasi_2 = dptin_kordinat(\"Tebat Air Koto Majidin\", ta_dict)\n",
        "destinasi_3 = dptin_kordinat(\"Air Terjun Pendung Mudik\", ta_dict)\n",
        "destinasi_4 = dptin_kordinat(\"Kebun jeruk arumi&hanum\", ta_dict)"
      ]
    },
    {
      "cell_type": "code",
      "source": [
        "tour_interests = [destinasi_1, destinasi_2, destinasi_3, destinasi_4]\n",
        "middle_point = calculate_middle_point(tour_interests)\n",
        "print(f\"Middle Point: {middle_point}\")"
      ],
      "metadata": {
        "colab": {
          "base_uri": "https://localhost:8080/"
        },
        "id": "H6iJSNGCaszn",
        "outputId": "44d005c6-ef96-4c55-8445-74de6d0d26ff"
      },
      "execution_count": null,
      "outputs": [
        {
          "output_type": "stream",
          "name": "stdout",
          "text": [
            "Middle Point: {'user_lat': -1.9904434000000002, 'user_lng': 101.37182865}\n"
          ]
        }
      ]
    },
    {
      "cell_type": "code",
      "execution_count": null,
      "metadata": {
        "id": "P27roJlgetcL"
      },
      "outputs": [],
      "source": [
        "def haversine(lat1, lon1, lat2, lon2):\n",
        "    R = 6371\n",
        "    dlat = np.radians(lat2 - lat1)\n",
        "    dlon = np.radians(lon2 - lon1)\n",
        "    a = np.sin(dlat / 2) ** 2 + np.cos(np.radians(lat1)) * np.cos(np.radians(lat2)) * np.sin(dlon / 2) ** 2\n",
        "    c = 2 * np.arctan2(np.sqrt(a), np.sqrt(1 - a))\n",
        "    distance = R * c\n",
        "    return distance\n",
        "\n",
        "# setiap ganti lat/lng perlu run ginian\n",
        "def distances(middle_point: Dict[str, float], data: pd.DataFrame) -> pd.DataFrame:\n",
        "    data['distance'] = data.apply(lambda row: haversine(middle_point['user_lat'], middle_point['user_lng'], row['lat'], row['lng']), axis=1)\n",
        "    return data\n",
        "\n",
        "def normalize_distances(data: pd.DataFrame) -> pd.DataFrame:\n",
        "    distances = data['distance'].values.reshape(-1, 1)\n",
        "    scaler = StandardScaler()\n",
        "    data['distance_normalized'] = scaler.fit_transform(distances)\n",
        "    return data\n",
        "\n",
        "hotel_data = distances(middle_point, hotel_data)\n",
        "hotel_data = normalize_distances(hotel_data)"
      ]
    },
    {
      "cell_type": "markdown",
      "metadata": {
        "id": "23_FmhxGcCYb"
      },
      "source": [
        "#Model and training"
      ]
    },
    {
      "cell_type": "code",
      "execution_count": null,
      "metadata": {
        "id": "LV6ph-e-cMmY"
      },
      "outputs": [],
      "source": [
        "class RankingModel(tfrs.Model):\n",
        "    def __init__(self):\n",
        "        super().__init__()\n",
        "        embedding_dimension = 32\n",
        "\n",
        "        unique_hotel_names = hotel_data[\"name\"].astype(str).unique()\n",
        "        self.hotel_name_lookup = tf.keras.layers.StringLookup(vocabulary=unique_hotel_names, mask_token=None)\n",
        "\n",
        "        self.hotel_embeddings = tf.keras.Sequential([\n",
        "            self.hotel_name_lookup,\n",
        "            tf.keras.layers.Embedding(len(unique_hotel_names) + 1, embedding_dimension)\n",
        "        ])\n",
        "\n",
        "        # ini berubah / perlu copas\n",
        "        self.user_preference_embeddings = tf.keras.layers.Embedding(len(mlb.classes_) + 1, embedding_dimension)\n",
        "\n",
        "        self.rating_model = tf.keras.Sequential([\n",
        "            tf.keras.layers.Dense(256, activation=\"relu\"),\n",
        "            tf.keras.layers.Dense(64, activation=\"relu\"),\n",
        "            tf.keras.layers.Dense(1)\n",
        "        ])\n",
        "\n",
        "        self.task = tfrs.tasks.Ranking(\n",
        "            loss=tf.keras.losses.MeanSquaredError(),\n",
        "            metrics=[tf.keras.metrics.RootMeanSquaredError()]\n",
        "        )\n",
        "\n",
        "    def call(self, features: Dict[Text, tf.Tensor]) -> tf.Tensor:\n",
        "        hotel_embeddings = self.hotel_embeddings(features[\"hotel_name\"])\n",
        "        distance_normalized_expanded = tf.expand_dims(features[\"distance_normalized\"], axis=1)\n",
        "        rating_expanded = tf.expand_dims(features[\"rating\"], axis=1)\n",
        "        user_preferences = tf.reduce_sum(self.user_preference_embeddings(features[\"preferences\"]), axis=1)\n",
        "        concatenated = tf.concat([hotel_embeddings, distance_normalized_expanded, rating_expanded, user_preferences], axis=1)\n",
        "        return self.rating_model(concatenated)\n",
        "\n",
        "    def compute_loss(self, features: Dict[Text, tf.Tensor], training=False) -> tf.Tensor:\n",
        "        features, labels = features\n",
        "        predictions = self(features)\n",
        "        return self.task(labels=labels, predictions=predictions)"
      ]
    },
    {
      "cell_type": "code",
      "source": [
        "repeated_preferences = np.tile(user_data[mlb.classes_].values, (int(np.ceil(len(hotel_data) / len(user_data))), 1))[:len(hotel_data)]"
      ],
      "metadata": {
        "id": "UNKvJnY0wJJz"
      },
      "execution_count": null,
      "outputs": []
    },
    {
      "cell_type": "code",
      "source": [
        "hotel_df = pd.DataFrame(hotel_data)\n",
        "\n",
        "ratings = hotel_df['rating'].values.reshape(-1, 1)\n",
        "distances = hotel_df['distance_normalized'].values.reshape(-1, 1)\n",
        "preferences = user_data[mlb.classes_].values\n",
        "\n",
        "ranking_scores = ratings * 0.3 + -distances * 0.4 + preferences.sum(axis=1).reshape(1, -1) * 0.3\n",
        "ranking_scores = ranking_scores.flatten()"
      ],
      "metadata": {
        "id": "hb1j4oqAiAQO"
      },
      "execution_count": null,
      "outputs": []
    },
    {
      "cell_type": "code",
      "source": [
        "combined_data = pd.DataFrame({\n",
        "    \"hotel_name\": hotel_data[\"name\"],\n",
        "    \"distance_normalized\": hotel_data[\"distance_normalized\"],\n",
        "    \"rating\": hotel_data[\"rating\"],\n",
        "    \"preferences\": list(repeated_preferences),\n",
        "    \"ranking_score\": hotel_data['rating'] * 0.35 + hotel_data['distance_normalized'] * -0.45 + repeated_preferences.sum(axis=1) * 0.2  # example ranking score\n",
        "})\n",
        "\n",
        "train_data, val_data = train_test_split(combined_data, test_size=0.2, random_state=42)\n",
        "\n",
        "def df_to_dataset(dataframe, batch_size=32):\n",
        "    dataframe = dataframe.copy()\n",
        "    labels = dataframe.pop('ranking_score')\n",
        "    dataframe = {key: np.stack(value) for key, value in dataframe.items()}\n",
        "    ds = tf.data.Dataset.from_tensor_slices((dataframe, labels))\n",
        "    ds = ds.batch(batch_size)\n",
        "    return ds\n",
        "\n",
        "train_dataset = df_to_dataset(train_data)\n",
        "val_dataset = df_to_dataset(val_data)"
      ],
      "metadata": {
        "id": "B8RYEKdvdnRZ"
      },
      "execution_count": null,
      "outputs": []
    },
    {
      "cell_type": "code",
      "execution_count": null,
      "metadata": {
        "id": "y6Ybc-fGcOtF"
      },
      "outputs": [],
      "source": [
        "model = RankingModel()\n",
        "model.compile(optimizer=tf.keras.optimizers.Adagrad(learning_rate=0.1), run_eagerly=True)"
      ]
    },
    {
      "cell_type": "code",
      "execution_count": null,
      "metadata": {
        "colab": {
          "base_uri": "https://localhost:8080/",
          "height": 445
        },
        "id": "tFUbd-jVcPF0",
        "outputId": "f28873ed-5d42-4ebb-8453-5f29b3f1f603"
      },
      "outputs": [
        {
          "output_type": "stream",
          "name": "stdout",
          "text": [
            "Epoch 1/20\n",
            "1356/1356 [==============================] - 61s 45ms/step - root_mean_squared_error: 0.0220 - loss: 4.8375e-04 - regularization_loss: 0.0000e+00 - total_loss: 4.8375e-04 - val_root_mean_squared_error: 0.0169 - val_loss: 8.7504e-05 - val_regularization_loss: 0.0000e+00 - val_total_loss: 8.7504e-05\n",
            "Epoch 2/20\n",
            "1356/1356 [==============================] - 49s 36ms/step - root_mean_squared_error: 0.0145 - loss: 2.0880e-04 - regularization_loss: 0.0000e+00 - total_loss: 2.0880e-04 - val_root_mean_squared_error: 0.0136 - val_loss: 5.0003e-05 - val_regularization_loss: 0.0000e+00 - val_total_loss: 5.0003e-05\n",
            "Epoch 3/20\n",
            "1281/1356 [===========================>..] - ETA: 3s - root_mean_squared_error: 0.0118 - loss: 1.3865e-04 - regularization_loss: 0.0000e+00 - total_loss: 1.3865e-04"
          ]
        },
        {
          "output_type": "error",
          "ename": "KeyboardInterrupt",
          "evalue": "",
          "traceback": [
            "\u001b[0;31m---------------------------------------------------------------------------\u001b[0m",
            "\u001b[0;31mKeyboardInterrupt\u001b[0m                         Traceback (most recent call last)",
            "\u001b[0;32m<ipython-input-17-0f8cb428f99f>\u001b[0m in \u001b[0;36m<cell line: 2>\u001b[0;34m()\u001b[0m\n\u001b[1;32m      1\u001b[0m \u001b[0;31m# Train the model\u001b[0m\u001b[0;34m\u001b[0m\u001b[0;34m\u001b[0m\u001b[0m\n\u001b[0;32m----> 2\u001b[0;31m \u001b[0mmodel\u001b[0m\u001b[0;34m.\u001b[0m\u001b[0mfit\u001b[0m\u001b[0;34m(\u001b[0m\u001b[0mtrain_dataset\u001b[0m\u001b[0;34m,\u001b[0m \u001b[0mvalidation_data\u001b[0m\u001b[0;34m=\u001b[0m\u001b[0mval_dataset\u001b[0m\u001b[0;34m,\u001b[0m \u001b[0mepochs\u001b[0m\u001b[0;34m=\u001b[0m\u001b[0;36m20\u001b[0m\u001b[0;34m)\u001b[0m\u001b[0;34m\u001b[0m\u001b[0;34m\u001b[0m\u001b[0m\n\u001b[0m",
            "\u001b[0;32m/usr/local/lib/python3.10/dist-packages/keras/src/utils/traceback_utils.py\u001b[0m in \u001b[0;36merror_handler\u001b[0;34m(*args, **kwargs)\u001b[0m\n\u001b[1;32m     63\u001b[0m         \u001b[0mfiltered_tb\u001b[0m \u001b[0;34m=\u001b[0m \u001b[0;32mNone\u001b[0m\u001b[0;34m\u001b[0m\u001b[0;34m\u001b[0m\u001b[0m\n\u001b[1;32m     64\u001b[0m         \u001b[0;32mtry\u001b[0m\u001b[0;34m:\u001b[0m\u001b[0;34m\u001b[0m\u001b[0;34m\u001b[0m\u001b[0m\n\u001b[0;32m---> 65\u001b[0;31m             \u001b[0;32mreturn\u001b[0m \u001b[0mfn\u001b[0m\u001b[0;34m(\u001b[0m\u001b[0;34m*\u001b[0m\u001b[0margs\u001b[0m\u001b[0;34m,\u001b[0m \u001b[0;34m**\u001b[0m\u001b[0mkwargs\u001b[0m\u001b[0;34m)\u001b[0m\u001b[0;34m\u001b[0m\u001b[0;34m\u001b[0m\u001b[0m\n\u001b[0m\u001b[1;32m     66\u001b[0m         \u001b[0;32mexcept\u001b[0m \u001b[0mException\u001b[0m \u001b[0;32mas\u001b[0m \u001b[0me\u001b[0m\u001b[0;34m:\u001b[0m\u001b[0;34m\u001b[0m\u001b[0;34m\u001b[0m\u001b[0m\n\u001b[1;32m     67\u001b[0m             \u001b[0mfiltered_tb\u001b[0m \u001b[0;34m=\u001b[0m \u001b[0m_process_traceback_frames\u001b[0m\u001b[0;34m(\u001b[0m\u001b[0me\u001b[0m\u001b[0;34m.\u001b[0m\u001b[0m__traceback__\u001b[0m\u001b[0;34m)\u001b[0m\u001b[0;34m\u001b[0m\u001b[0;34m\u001b[0m\u001b[0m\n",
            "\u001b[0;32m/usr/local/lib/python3.10/dist-packages/keras/src/engine/training.py\u001b[0m in \u001b[0;36mfit\u001b[0;34m(self, x, y, batch_size, epochs, verbose, callbacks, validation_split, validation_data, shuffle, class_weight, sample_weight, initial_epoch, steps_per_epoch, validation_steps, validation_batch_size, validation_freq, max_queue_size, workers, use_multiprocessing)\u001b[0m\n\u001b[1;32m   1811\u001b[0m                             \u001b[0mlogs\u001b[0m \u001b[0;34m=\u001b[0m \u001b[0mtmp_logs\u001b[0m\u001b[0;34m\u001b[0m\u001b[0;34m\u001b[0m\u001b[0m\n\u001b[1;32m   1812\u001b[0m                             \u001b[0mend_step\u001b[0m \u001b[0;34m=\u001b[0m \u001b[0mstep\u001b[0m \u001b[0;34m+\u001b[0m \u001b[0mdata_handler\u001b[0m\u001b[0;34m.\u001b[0m\u001b[0mstep_increment\u001b[0m\u001b[0;34m\u001b[0m\u001b[0;34m\u001b[0m\u001b[0m\n\u001b[0;32m-> 1813\u001b[0;31m                             \u001b[0mcallbacks\u001b[0m\u001b[0;34m.\u001b[0m\u001b[0mon_train_batch_end\u001b[0m\u001b[0;34m(\u001b[0m\u001b[0mend_step\u001b[0m\u001b[0;34m,\u001b[0m \u001b[0mlogs\u001b[0m\u001b[0;34m)\u001b[0m\u001b[0;34m\u001b[0m\u001b[0;34m\u001b[0m\u001b[0m\n\u001b[0m\u001b[1;32m   1814\u001b[0m                             \u001b[0;32mif\u001b[0m \u001b[0mself\u001b[0m\u001b[0;34m.\u001b[0m\u001b[0mstop_training\u001b[0m\u001b[0;34m:\u001b[0m\u001b[0;34m\u001b[0m\u001b[0;34m\u001b[0m\u001b[0m\n\u001b[1;32m   1815\u001b[0m                                 \u001b[0;32mbreak\u001b[0m\u001b[0;34m\u001b[0m\u001b[0;34m\u001b[0m\u001b[0m\n",
            "\u001b[0;32m/usr/local/lib/python3.10/dist-packages/keras/src/callbacks.py\u001b[0m in \u001b[0;36mon_train_batch_end\u001b[0;34m(self, batch, logs)\u001b[0m\n\u001b[1;32m    473\u001b[0m         \"\"\"\n\u001b[1;32m    474\u001b[0m         \u001b[0;32mif\u001b[0m \u001b[0mself\u001b[0m\u001b[0;34m.\u001b[0m\u001b[0m_should_call_train_batch_hooks\u001b[0m\u001b[0;34m:\u001b[0m\u001b[0;34m\u001b[0m\u001b[0;34m\u001b[0m\u001b[0m\n\u001b[0;32m--> 475\u001b[0;31m             \u001b[0mself\u001b[0m\u001b[0;34m.\u001b[0m\u001b[0m_call_batch_hook\u001b[0m\u001b[0;34m(\u001b[0m\u001b[0mModeKeys\u001b[0m\u001b[0;34m.\u001b[0m\u001b[0mTRAIN\u001b[0m\u001b[0;34m,\u001b[0m \u001b[0;34m\"end\"\u001b[0m\u001b[0;34m,\u001b[0m \u001b[0mbatch\u001b[0m\u001b[0;34m,\u001b[0m \u001b[0mlogs\u001b[0m\u001b[0;34m=\u001b[0m\u001b[0mlogs\u001b[0m\u001b[0;34m)\u001b[0m\u001b[0;34m\u001b[0m\u001b[0;34m\u001b[0m\u001b[0m\n\u001b[0m\u001b[1;32m    476\u001b[0m \u001b[0;34m\u001b[0m\u001b[0m\n\u001b[1;32m    477\u001b[0m     \u001b[0;32mdef\u001b[0m \u001b[0mon_test_batch_begin\u001b[0m\u001b[0;34m(\u001b[0m\u001b[0mself\u001b[0m\u001b[0;34m,\u001b[0m \u001b[0mbatch\u001b[0m\u001b[0;34m,\u001b[0m \u001b[0mlogs\u001b[0m\u001b[0;34m=\u001b[0m\u001b[0;32mNone\u001b[0m\u001b[0;34m)\u001b[0m\u001b[0;34m:\u001b[0m\u001b[0;34m\u001b[0m\u001b[0;34m\u001b[0m\u001b[0m\n",
            "\u001b[0;32m/usr/local/lib/python3.10/dist-packages/keras/src/callbacks.py\u001b[0m in \u001b[0;36m_call_batch_hook\u001b[0;34m(self, mode, hook, batch, logs)\u001b[0m\n\u001b[1;32m    320\u001b[0m             \u001b[0mself\u001b[0m\u001b[0;34m.\u001b[0m\u001b[0m_call_batch_begin_hook\u001b[0m\u001b[0;34m(\u001b[0m\u001b[0mmode\u001b[0m\u001b[0;34m,\u001b[0m \u001b[0mbatch\u001b[0m\u001b[0;34m,\u001b[0m \u001b[0mlogs\u001b[0m\u001b[0;34m)\u001b[0m\u001b[0;34m\u001b[0m\u001b[0;34m\u001b[0m\u001b[0m\n\u001b[1;32m    321\u001b[0m         \u001b[0;32melif\u001b[0m \u001b[0mhook\u001b[0m \u001b[0;34m==\u001b[0m \u001b[0;34m\"end\"\u001b[0m\u001b[0;34m:\u001b[0m\u001b[0;34m\u001b[0m\u001b[0;34m\u001b[0m\u001b[0m\n\u001b[0;32m--> 322\u001b[0;31m             \u001b[0mself\u001b[0m\u001b[0;34m.\u001b[0m\u001b[0m_call_batch_end_hook\u001b[0m\u001b[0;34m(\u001b[0m\u001b[0mmode\u001b[0m\u001b[0;34m,\u001b[0m \u001b[0mbatch\u001b[0m\u001b[0;34m,\u001b[0m \u001b[0mlogs\u001b[0m\u001b[0;34m)\u001b[0m\u001b[0;34m\u001b[0m\u001b[0;34m\u001b[0m\u001b[0m\n\u001b[0m\u001b[1;32m    323\u001b[0m         \u001b[0;32melse\u001b[0m\u001b[0;34m:\u001b[0m\u001b[0;34m\u001b[0m\u001b[0;34m\u001b[0m\u001b[0m\n\u001b[1;32m    324\u001b[0m             raise ValueError(\n",
            "\u001b[0;32m/usr/local/lib/python3.10/dist-packages/keras/src/callbacks.py\u001b[0m in \u001b[0;36m_call_batch_end_hook\u001b[0;34m(self, mode, batch, logs)\u001b[0m\n\u001b[1;32m    343\u001b[0m             \u001b[0mself\u001b[0m\u001b[0;34m.\u001b[0m\u001b[0m_batch_times\u001b[0m\u001b[0;34m.\u001b[0m\u001b[0mappend\u001b[0m\u001b[0;34m(\u001b[0m\u001b[0mbatch_time\u001b[0m\u001b[0;34m)\u001b[0m\u001b[0;34m\u001b[0m\u001b[0;34m\u001b[0m\u001b[0m\n\u001b[1;32m    344\u001b[0m \u001b[0;34m\u001b[0m\u001b[0m\n\u001b[0;32m--> 345\u001b[0;31m         \u001b[0mself\u001b[0m\u001b[0;34m.\u001b[0m\u001b[0m_call_batch_hook_helper\u001b[0m\u001b[0;34m(\u001b[0m\u001b[0mhook_name\u001b[0m\u001b[0;34m,\u001b[0m \u001b[0mbatch\u001b[0m\u001b[0;34m,\u001b[0m \u001b[0mlogs\u001b[0m\u001b[0;34m)\u001b[0m\u001b[0;34m\u001b[0m\u001b[0;34m\u001b[0m\u001b[0m\n\u001b[0m\u001b[1;32m    346\u001b[0m \u001b[0;34m\u001b[0m\u001b[0m\n\u001b[1;32m    347\u001b[0m         \u001b[0;32mif\u001b[0m \u001b[0mlen\u001b[0m\u001b[0;34m(\u001b[0m\u001b[0mself\u001b[0m\u001b[0;34m.\u001b[0m\u001b[0m_batch_times\u001b[0m\u001b[0;34m)\u001b[0m \u001b[0;34m>=\u001b[0m \u001b[0mself\u001b[0m\u001b[0;34m.\u001b[0m\u001b[0m_num_batches_for_timing_check\u001b[0m\u001b[0;34m:\u001b[0m\u001b[0;34m\u001b[0m\u001b[0;34m\u001b[0m\u001b[0m\n",
            "\u001b[0;32m/usr/local/lib/python3.10/dist-packages/keras/src/callbacks.py\u001b[0m in \u001b[0;36m_call_batch_hook_helper\u001b[0;34m(self, hook_name, batch, logs)\u001b[0m\n\u001b[1;32m    391\u001b[0m         \u001b[0;32mfor\u001b[0m \u001b[0mcallback\u001b[0m \u001b[0;32min\u001b[0m \u001b[0mself\u001b[0m\u001b[0;34m.\u001b[0m\u001b[0mcallbacks\u001b[0m\u001b[0;34m:\u001b[0m\u001b[0;34m\u001b[0m\u001b[0;34m\u001b[0m\u001b[0m\n\u001b[1;32m    392\u001b[0m             \u001b[0mhook\u001b[0m \u001b[0;34m=\u001b[0m \u001b[0mgetattr\u001b[0m\u001b[0;34m(\u001b[0m\u001b[0mcallback\u001b[0m\u001b[0;34m,\u001b[0m \u001b[0mhook_name\u001b[0m\u001b[0;34m)\u001b[0m\u001b[0;34m\u001b[0m\u001b[0;34m\u001b[0m\u001b[0m\n\u001b[0;32m--> 393\u001b[0;31m             \u001b[0mhook\u001b[0m\u001b[0;34m(\u001b[0m\u001b[0mbatch\u001b[0m\u001b[0;34m,\u001b[0m \u001b[0mlogs\u001b[0m\u001b[0;34m)\u001b[0m\u001b[0;34m\u001b[0m\u001b[0;34m\u001b[0m\u001b[0m\n\u001b[0m\u001b[1;32m    394\u001b[0m \u001b[0;34m\u001b[0m\u001b[0m\n\u001b[1;32m    395\u001b[0m         \u001b[0;32mif\u001b[0m \u001b[0mself\u001b[0m\u001b[0;34m.\u001b[0m\u001b[0m_check_timing\u001b[0m\u001b[0;34m:\u001b[0m\u001b[0;34m\u001b[0m\u001b[0;34m\u001b[0m\u001b[0m\n",
            "\u001b[0;32m/usr/local/lib/python3.10/dist-packages/keras/src/callbacks.py\u001b[0m in \u001b[0;36mon_train_batch_end\u001b[0;34m(self, batch, logs)\u001b[0m\n\u001b[1;32m   1091\u001b[0m \u001b[0;34m\u001b[0m\u001b[0m\n\u001b[1;32m   1092\u001b[0m     \u001b[0;32mdef\u001b[0m \u001b[0mon_train_batch_end\u001b[0m\u001b[0;34m(\u001b[0m\u001b[0mself\u001b[0m\u001b[0;34m,\u001b[0m \u001b[0mbatch\u001b[0m\u001b[0;34m,\u001b[0m \u001b[0mlogs\u001b[0m\u001b[0;34m=\u001b[0m\u001b[0;32mNone\u001b[0m\u001b[0;34m)\u001b[0m\u001b[0;34m:\u001b[0m\u001b[0;34m\u001b[0m\u001b[0;34m\u001b[0m\u001b[0m\n\u001b[0;32m-> 1093\u001b[0;31m         \u001b[0mself\u001b[0m\u001b[0;34m.\u001b[0m\u001b[0m_batch_update_progbar\u001b[0m\u001b[0;34m(\u001b[0m\u001b[0mbatch\u001b[0m\u001b[0;34m,\u001b[0m \u001b[0mlogs\u001b[0m\u001b[0;34m)\u001b[0m\u001b[0;34m\u001b[0m\u001b[0;34m\u001b[0m\u001b[0m\n\u001b[0m\u001b[1;32m   1094\u001b[0m \u001b[0;34m\u001b[0m\u001b[0m\n\u001b[1;32m   1095\u001b[0m     \u001b[0;32mdef\u001b[0m \u001b[0mon_test_batch_end\u001b[0m\u001b[0;34m(\u001b[0m\u001b[0mself\u001b[0m\u001b[0;34m,\u001b[0m \u001b[0mbatch\u001b[0m\u001b[0;34m,\u001b[0m \u001b[0mlogs\u001b[0m\u001b[0;34m=\u001b[0m\u001b[0;32mNone\u001b[0m\u001b[0;34m)\u001b[0m\u001b[0;34m:\u001b[0m\u001b[0;34m\u001b[0m\u001b[0;34m\u001b[0m\u001b[0m\n",
            "\u001b[0;32m/usr/local/lib/python3.10/dist-packages/keras/src/callbacks.py\u001b[0m in \u001b[0;36m_batch_update_progbar\u001b[0;34m(self, batch, logs)\u001b[0m\n\u001b[1;32m   1168\u001b[0m             \u001b[0;31m# Only block async when verbose = 1.\u001b[0m\u001b[0;34m\u001b[0m\u001b[0;34m\u001b[0m\u001b[0m\n\u001b[1;32m   1169\u001b[0m             \u001b[0mlogs\u001b[0m \u001b[0;34m=\u001b[0m \u001b[0mtf_utils\u001b[0m\u001b[0;34m.\u001b[0m\u001b[0msync_to_numpy_or_python_type\u001b[0m\u001b[0;34m(\u001b[0m\u001b[0mlogs\u001b[0m\u001b[0;34m)\u001b[0m\u001b[0;34m\u001b[0m\u001b[0;34m\u001b[0m\u001b[0m\n\u001b[0;32m-> 1170\u001b[0;31m             \u001b[0mself\u001b[0m\u001b[0;34m.\u001b[0m\u001b[0mprogbar\u001b[0m\u001b[0;34m.\u001b[0m\u001b[0mupdate\u001b[0m\u001b[0;34m(\u001b[0m\u001b[0mself\u001b[0m\u001b[0;34m.\u001b[0m\u001b[0mseen\u001b[0m\u001b[0;34m,\u001b[0m \u001b[0mlist\u001b[0m\u001b[0;34m(\u001b[0m\u001b[0mlogs\u001b[0m\u001b[0;34m.\u001b[0m\u001b[0mitems\u001b[0m\u001b[0;34m(\u001b[0m\u001b[0;34m)\u001b[0m\u001b[0;34m)\u001b[0m\u001b[0;34m,\u001b[0m \u001b[0mfinalize\u001b[0m\u001b[0;34m=\u001b[0m\u001b[0;32mFalse\u001b[0m\u001b[0;34m)\u001b[0m\u001b[0;34m\u001b[0m\u001b[0;34m\u001b[0m\u001b[0m\n\u001b[0m\u001b[1;32m   1171\u001b[0m \u001b[0;34m\u001b[0m\u001b[0m\n\u001b[1;32m   1172\u001b[0m     \u001b[0;32mdef\u001b[0m \u001b[0m_finalize_progbar\u001b[0m\u001b[0;34m(\u001b[0m\u001b[0mself\u001b[0m\u001b[0;34m,\u001b[0m \u001b[0mlogs\u001b[0m\u001b[0;34m,\u001b[0m \u001b[0mcounter\u001b[0m\u001b[0;34m)\u001b[0m\u001b[0;34m:\u001b[0m\u001b[0;34m\u001b[0m\u001b[0;34m\u001b[0m\u001b[0m\n",
            "\u001b[0;32m/usr/local/lib/python3.10/dist-packages/keras/src/utils/generic_utils.py\u001b[0m in \u001b[0;36mupdate\u001b[0;34m(self, current, values, finalize)\u001b[0m\n\u001b[1;32m    294\u001b[0m \u001b[0;34m\u001b[0m\u001b[0m\n\u001b[1;32m    295\u001b[0m             \u001b[0mmessage\u001b[0m \u001b[0;34m+=\u001b[0m \u001b[0minfo\u001b[0m\u001b[0;34m\u001b[0m\u001b[0;34m\u001b[0m\u001b[0m\n\u001b[0;32m--> 296\u001b[0;31m             \u001b[0mio_utils\u001b[0m\u001b[0;34m.\u001b[0m\u001b[0mprint_msg\u001b[0m\u001b[0;34m(\u001b[0m\u001b[0mmessage\u001b[0m\u001b[0;34m,\u001b[0m \u001b[0mline_break\u001b[0m\u001b[0;34m=\u001b[0m\u001b[0;32mFalse\u001b[0m\u001b[0;34m)\u001b[0m\u001b[0;34m\u001b[0m\u001b[0;34m\u001b[0m\u001b[0m\n\u001b[0m\u001b[1;32m    297\u001b[0m             \u001b[0mmessage\u001b[0m \u001b[0;34m=\u001b[0m \u001b[0;34m\"\"\u001b[0m\u001b[0;34m\u001b[0m\u001b[0;34m\u001b[0m\u001b[0m\n\u001b[1;32m    298\u001b[0m \u001b[0;34m\u001b[0m\u001b[0m\n",
            "\u001b[0;32m/usr/local/lib/python3.10/dist-packages/keras/src/utils/io_utils.py\u001b[0m in \u001b[0;36mprint_msg\u001b[0;34m(message, line_break)\u001b[0m\n\u001b[1;32m     79\u001b[0m         \u001b[0;32melse\u001b[0m\u001b[0;34m:\u001b[0m\u001b[0;34m\u001b[0m\u001b[0;34m\u001b[0m\u001b[0m\n\u001b[1;32m     80\u001b[0m             \u001b[0msys\u001b[0m\u001b[0;34m.\u001b[0m\u001b[0mstdout\u001b[0m\u001b[0;34m.\u001b[0m\u001b[0mwrite\u001b[0m\u001b[0;34m(\u001b[0m\u001b[0mmessage\u001b[0m\u001b[0;34m)\u001b[0m\u001b[0;34m\u001b[0m\u001b[0;34m\u001b[0m\u001b[0m\n\u001b[0;32m---> 81\u001b[0;31m         \u001b[0msys\u001b[0m\u001b[0;34m.\u001b[0m\u001b[0mstdout\u001b[0m\u001b[0;34m.\u001b[0m\u001b[0mflush\u001b[0m\u001b[0;34m(\u001b[0m\u001b[0;34m)\u001b[0m\u001b[0;34m\u001b[0m\u001b[0;34m\u001b[0m\u001b[0m\n\u001b[0m\u001b[1;32m     82\u001b[0m     \u001b[0;32melse\u001b[0m\u001b[0;34m:\u001b[0m\u001b[0;34m\u001b[0m\u001b[0;34m\u001b[0m\u001b[0m\n\u001b[1;32m     83\u001b[0m         \u001b[0mlogging\u001b[0m\u001b[0;34m.\u001b[0m\u001b[0minfo\u001b[0m\u001b[0;34m(\u001b[0m\u001b[0mmessage\u001b[0m\u001b[0;34m)\u001b[0m\u001b[0;34m\u001b[0m\u001b[0;34m\u001b[0m\u001b[0m\n",
            "\u001b[0;32m/usr/local/lib/python3.10/dist-packages/ipykernel/iostream.py\u001b[0m in \u001b[0;36mflush\u001b[0;34m(self)\u001b[0m\n\u001b[1;32m    340\u001b[0m         \u001b[0;32mif\u001b[0m \u001b[0mself\u001b[0m\u001b[0;34m.\u001b[0m\u001b[0mpub_thread\u001b[0m \u001b[0;32mand\u001b[0m \u001b[0mself\u001b[0m\u001b[0;34m.\u001b[0m\u001b[0mpub_thread\u001b[0m\u001b[0;34m.\u001b[0m\u001b[0mthread\u001b[0m \u001b[0;32mis\u001b[0m \u001b[0;32mnot\u001b[0m \u001b[0;32mNone\u001b[0m \u001b[0;32mand\u001b[0m \u001b[0mself\u001b[0m\u001b[0;34m.\u001b[0m\u001b[0mpub_thread\u001b[0m\u001b[0;34m.\u001b[0m\u001b[0mthread\u001b[0m\u001b[0;34m.\u001b[0m\u001b[0mis_alive\u001b[0m\u001b[0;34m(\u001b[0m\u001b[0;34m)\u001b[0m\u001b[0;34m:\u001b[0m\u001b[0;34m\u001b[0m\u001b[0;34m\u001b[0m\u001b[0m\n\u001b[1;32m    341\u001b[0m             \u001b[0;31m# request flush on the background thread\u001b[0m\u001b[0;34m\u001b[0m\u001b[0;34m\u001b[0m\u001b[0m\n\u001b[0;32m--> 342\u001b[0;31m             \u001b[0mself\u001b[0m\u001b[0;34m.\u001b[0m\u001b[0mpub_thread\u001b[0m\u001b[0;34m.\u001b[0m\u001b[0mschedule\u001b[0m\u001b[0;34m(\u001b[0m\u001b[0mself\u001b[0m\u001b[0;34m.\u001b[0m\u001b[0m_flush\u001b[0m\u001b[0;34m)\u001b[0m\u001b[0;34m\u001b[0m\u001b[0;34m\u001b[0m\u001b[0m\n\u001b[0m\u001b[1;32m    343\u001b[0m             \u001b[0;31m# wait for flush to actually get through, if we can.\u001b[0m\u001b[0;34m\u001b[0m\u001b[0;34m\u001b[0m\u001b[0m\n\u001b[1;32m    344\u001b[0m             \u001b[0;31m# waiting across threads during import can cause deadlocks\u001b[0m\u001b[0;34m\u001b[0m\u001b[0;34m\u001b[0m\u001b[0m\n",
            "\u001b[0;32m/usr/local/lib/python3.10/dist-packages/ipykernel/iostream.py\u001b[0m in \u001b[0;36mschedule\u001b[0;34m(self, f)\u001b[0m\n\u001b[1;32m    201\u001b[0m             \u001b[0mself\u001b[0m\u001b[0;34m.\u001b[0m\u001b[0m_events\u001b[0m\u001b[0;34m.\u001b[0m\u001b[0mappend\u001b[0m\u001b[0;34m(\u001b[0m\u001b[0mf\u001b[0m\u001b[0;34m)\u001b[0m\u001b[0;34m\u001b[0m\u001b[0;34m\u001b[0m\u001b[0m\n\u001b[1;32m    202\u001b[0m             \u001b[0;31m# wake event thread (message content is ignored)\u001b[0m\u001b[0;34m\u001b[0m\u001b[0;34m\u001b[0m\u001b[0m\n\u001b[0;32m--> 203\u001b[0;31m             \u001b[0mself\u001b[0m\u001b[0;34m.\u001b[0m\u001b[0m_event_pipe\u001b[0m\u001b[0;34m.\u001b[0m\u001b[0msend\u001b[0m\u001b[0;34m(\u001b[0m\u001b[0;34mb''\u001b[0m\u001b[0;34m)\u001b[0m\u001b[0;34m\u001b[0m\u001b[0;34m\u001b[0m\u001b[0m\n\u001b[0m\u001b[1;32m    204\u001b[0m         \u001b[0;32melse\u001b[0m\u001b[0;34m:\u001b[0m\u001b[0;34m\u001b[0m\u001b[0;34m\u001b[0m\u001b[0m\n\u001b[1;32m    205\u001b[0m             \u001b[0mf\u001b[0m\u001b[0;34m(\u001b[0m\u001b[0;34m)\u001b[0m\u001b[0;34m\u001b[0m\u001b[0;34m\u001b[0m\u001b[0m\n",
            "\u001b[0;32m/usr/local/lib/python3.10/dist-packages/zmq/sugar/socket.py\u001b[0m in \u001b[0;36msend\u001b[0;34m(self, data, flags, copy, track, routing_id, group)\u001b[0m\n\u001b[1;32m    618\u001b[0m                 )\n\u001b[1;32m    619\u001b[0m             \u001b[0mdata\u001b[0m\u001b[0;34m.\u001b[0m\u001b[0mgroup\u001b[0m \u001b[0;34m=\u001b[0m \u001b[0mgroup\u001b[0m\u001b[0;34m\u001b[0m\u001b[0;34m\u001b[0m\u001b[0m\n\u001b[0;32m--> 620\u001b[0;31m         \u001b[0;32mreturn\u001b[0m \u001b[0msuper\u001b[0m\u001b[0;34m(\u001b[0m\u001b[0;34m)\u001b[0m\u001b[0;34m.\u001b[0m\u001b[0msend\u001b[0m\u001b[0;34m(\u001b[0m\u001b[0mdata\u001b[0m\u001b[0;34m,\u001b[0m \u001b[0mflags\u001b[0m\u001b[0;34m=\u001b[0m\u001b[0mflags\u001b[0m\u001b[0;34m,\u001b[0m \u001b[0mcopy\u001b[0m\u001b[0;34m=\u001b[0m\u001b[0mcopy\u001b[0m\u001b[0;34m,\u001b[0m \u001b[0mtrack\u001b[0m\u001b[0;34m=\u001b[0m\u001b[0mtrack\u001b[0m\u001b[0;34m)\u001b[0m\u001b[0;34m\u001b[0m\u001b[0;34m\u001b[0m\u001b[0m\n\u001b[0m\u001b[1;32m    621\u001b[0m \u001b[0;34m\u001b[0m\u001b[0m\n\u001b[1;32m    622\u001b[0m     def send_multipart(\n",
            "\u001b[0;32mzmq/backend/cython/socket.pyx\u001b[0m in \u001b[0;36mzmq.backend.cython.socket.Socket.send\u001b[0;34m()\u001b[0m\n",
            "\u001b[0;32mzmq/backend/cython/socket.pyx\u001b[0m in \u001b[0;36mzmq.backend.cython.socket.Socket.send\u001b[0;34m()\u001b[0m\n",
            "\u001b[0;32mzmq/backend/cython/socket.pyx\u001b[0m in \u001b[0;36mzmq.backend.cython.socket._send_copy\u001b[0;34m()\u001b[0m\n",
            "\u001b[0;32m/usr/local/lib/python3.10/dist-packages/zmq/backend/cython/checkrc.pxd\u001b[0m in \u001b[0;36mzmq.backend.cython.checkrc._check_rc\u001b[0;34m()\u001b[0m\n",
            "\u001b[0;31mKeyboardInterrupt\u001b[0m: "
          ]
        }
      ],
      "source": [
        "# Train the model\n",
        "model.fit(train_dataset, validation_data=val_dataset, epochs=20)"
      ]
    },
    {
      "cell_type": "code",
      "execution_count": null,
      "metadata": {
        "id": "rFd7ikOscRBb"
      },
      "outputs": [],
      "source": [
        "def rank_hotels(user_id, top_n):\n",
        "    user_preferences = user_data.loc[user_data['User_Id'] == user_id, mlb.classes_].values.flatten()\n",
        "    hotel_data_input = {\n",
        "        \"hotel_name\": tf.constant(hotel_data[\"name\"].astype(str).tolist()),\n",
        "        \"distance_normalized\": tf.constant(hotel_data[\"distance_normalized\"].tolist(), dtype=tf.float32),\n",
        "        \"rating\": tf.constant(hotel_data[\"rating\"].tolist(), dtype=tf.float32),\n",
        "        \"preferences\": tf.constant([user_preferences] * len(hotel_data), dtype=tf.float32)\n",
        "    }\n",
        "    predictions = model(hotel_data_input)\n",
        "    hotel_data[\"predicted_ranking_score\"] = predictions.numpy().flatten()\n",
        "    ranked_hotels = hotel_data.sort_values(by=\"predicted_ranking_score\", ascending=False).head(top_n)\n",
        "    return ranked_hotels[[\"name\", \"formatted_address\", \"distance\", \"rating\", \"predicted_ranking_score\", \"photos\"]]\n",
        "\n",
        "\n",
        "# ini kalau ingin bikin preference kalian sendiri\n",
        "def another_rank_hotels(preference:List[int], top_n=5):\n",
        "\n",
        "    user_preferences = input('Masukin array []')\n",
        "\n",
        "    hotel_data = {\n",
        "        \"hotel_name\": tf.constant(hotel_data[\"name\"].tolist()),\n",
        "        \"distance_normalized\": tf.constant(hotel_data[\"distance_normalized\"].tolist(), dtype=tf.float32),\n",
        "        \"rating\": tf.constant(hotel_data[\"rating\"].tolist(), dtype=tf.float32),\n",
        "        \"preferences\": tf.constant([user_preferences] * len(hotel_data), dtype=tf.float32)\n",
        "    }\n",
        "    predictions = model(hotel_data)\n",
        "    hotel_data[\"predicted_ranking_score\"] = predictions.numpy().flatten()\n",
        "    ranked_hotels = hotel_data.sort_values(by=\"predicted_ranking_score\", ascending=False).head(top_n)\n",
        "    return ranked_hotels[[\"name\", \"formatted_address\", \"distance\", \"rating\", \"predicted_ranking_score\", \"photos\"]]"
      ]
    },
    {
      "cell_type": "code",
      "execution_count": null,
      "metadata": {
        "colab": {
          "base_uri": "https://localhost:8080/"
        },
        "id": "icRyhzXocTtR",
        "outputId": "a7028049-47f9-4ed7-b8f3-c0d59111f387"
      },
      "outputs": [
        {
          "output_type": "stream",
          "name": "stdout",
          "text": [
            "{'user_lat': -1.9904434000000002, 'user_lng': 101.37182865}\n",
            "                                                    name  \\\n",
            "24333                                        Rumah hitam   \n",
            "26166                                       Villa Vasily   \n",
            "24334                                  RUMAH SRY WAHYUNI   \n",
            "24342  Homestay 007 Saribu Rumah Gadang/Penginapan So...   \n",
            "26161  Homestay 007 Saribu Rumah Gadang/Penginapan So...   \n",
            "24228                                      Rumah Barulih   \n",
            "24335                                              Hotel   \n",
            "24230                                   Penginapan Ni Ir   \n",
            "24331                                        St Mangkuto   \n",
            "24324                                Rumah Asri Mr Black   \n",
            "24336                                        Mbah wasidi   \n",
            "14332                Homestay permata sari(tempat ginap)   \n",
            "24321                                 Rumah Mertua Isell   \n",
            "24217                                  Penginapan Aliyah   \n",
            "24278                             De Queen Villa & Resto   \n",
            "\n",
            "                                       formatted_address    distance  \\\n",
            "24333  P4HP+XRR, Lunang Selatan, Lunang, South Pesisi...   40.586466   \n",
            "26166  Lubuk Pauh, Gunung Tujuh, Kerinci Regency, Jam...   30.846604   \n",
            "24334  P533+3QQ, Jl. Padang - Muko-Muko, Lunang, Kec....   41.691670   \n",
            "24342  Kawasan Nagari Saribu Rumah Gadang Koto Baru, ...   65.849115   \n",
            "26161  Kawasan Nagari Saribu Rumah Gadang Koto Baru, ...   65.849115   \n",
            "24228  R463+43, Kubu Tapan, Basa Ampek Balai Tapan, S...   37.217701   \n",
            "24335  M573+GGP SPBU, Silaut, Kec. Silaut, Kabupaten ...   45.445576   \n",
            "24230  R3WH+FWJ, Pasar Tapan, Basa Ampek Balai Tapan,...   37.190712   \n",
            "24331  Jl. Padang - Muko-Muko No.8, Pelangai, Kec. Ra...   64.123026   \n",
            "24324  8PJQ+3GH, Kambang Utara, Lengayang, South Pesi...   78.865601   \n",
            "24336  J345+G98, Unnamed Road, Silaut, Kec. Lunang, K...   56.773418   \n",
            "14332  Jalan SMP 1, Sungai Rumbai, Kec. Sungai Rumbai...   95.333793   \n",
            "24321  8MPV+XX4, Unnamed Road, Kambang Bar., Kec. Len...   83.594201   \n",
            "24217  KP. BUKIT BUJANG-BUJANG, MUARA INDERAPURA, Kec...   48.774891   \n",
            "24278  Jl. Danau Talang, Kp. Batu Dalam, Kec. Danau K...  130.751345   \n",
            "\n",
            "         rating  predicted_ranking_score  \\\n",
            "24333  0.900966                 1.531226   \n",
            "26166  0.900966                 1.529090   \n",
            "24334  0.900966                 1.528428   \n",
            "24342  0.900966                 1.528389   \n",
            "26161  0.900966                 1.528389   \n",
            "24228  0.900966                 1.527956   \n",
            "24335  0.900966                 1.527624   \n",
            "24230  0.900966                 1.527586   \n",
            "24331  0.900966                 1.527373   \n",
            "24324  0.900966                 1.526028   \n",
            "24336  0.900966                 1.521388   \n",
            "14332  0.900966                 1.521154   \n",
            "24321  0.900966                 1.520555   \n",
            "24217  0.900966                 1.517330   \n",
            "24278  0.900966                 1.516620   \n",
            "\n",
            "                                                  photos  \n",
            "24333  [{'height': 1920, 'html_attributions': ['<a hr...  \n",
            "26166  [{'height': 4096, 'html_attributions': ['<a hr...  \n",
            "24334                                                NaN  \n",
            "24342  [{'height': 768, 'html_attributions': ['<a hre...  \n",
            "26161  [{'height': 768, 'html_attributions': ['<a hre...  \n",
            "24228  [{'height': 1280, 'html_attributions': ['<a hr...  \n",
            "24335                                                NaN  \n",
            "24230  [{'height': 2160, 'html_attributions': ['<a hr...  \n",
            "24331  [{'height': 2304, 'html_attributions': ['<a hr...  \n",
            "24324                                                NaN  \n",
            "24336                                                NaN  \n",
            "14332  [{'height': 3000, 'html_attributions': ['<a hr...  \n",
            "24321                                                NaN  \n",
            "24217  [{'height': 1080, 'html_attributions': ['<a hr...  \n",
            "24278  [{'height': 2752, 'html_attributions': ['<a hr...  \n"
          ]
        }
      ],
      "source": [
        "user_id = 4\n",
        "print(middle_point)\n",
        "\n",
        "top_hotels = rank_hotels(user_id, top_n=15)\n",
        "print(top_hotels)"
      ]
    },
    {
      "cell_type": "markdown",
      "source": [
        "#Save and Export"
      ],
      "metadata": {
        "id": "7qO73tjt_h8W"
      }
    },
    {
      "cell_type": "code",
      "source": [
        "model.save_weights('model_weights_stdrecommdend.h5')"
      ],
      "metadata": {
        "id": "IS0Zw9UOK-v4"
      },
      "execution_count": null,
      "outputs": []
    },
    {
      "cell_type": "code",
      "source": [
        "with open('model_architecture.json', 'w') as f:\n",
        "    f.write(model.to_json())"
      ],
      "metadata": {
        "id": "xRu1OiAKnMnZ"
      },
      "execution_count": null,
      "outputs": []
    }
  ],
  "metadata": {
    "colab": {
      "provenance": [],
      "collapsed_sections": [
        "DPNw6K58uVTd",
        "V6SVzgS3uY7-",
        "YyHKRdndvMRl",
        "23_FmhxGcCYb",
        "7qO73tjt_h8W"
      ]
    },
    "kernelspec": {
      "display_name": "Python 3",
      "name": "python3"
    },
    "language_info": {
      "name": "python"
    }
  },
  "nbformat": 4,
  "nbformat_minor": 0
}