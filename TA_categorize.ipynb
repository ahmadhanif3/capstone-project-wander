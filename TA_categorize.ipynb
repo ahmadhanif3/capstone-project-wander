{
 "cells": [
  {
   "cell_type": "code",
   "execution_count": 1,
   "id": "initial_id",
   "metadata": {
    "collapsed": true,
    "ExecuteTime": {
     "end_time": "2024-06-12T14:31:19.556704600Z",
     "start_time": "2024-06-12T14:31:18.393763500Z"
    }
   },
   "outputs": [],
   "source": [
    "import pandas as pd\n",
    "import os"
   ]
  },
  {
   "cell_type": "code",
   "execution_count": 2,
   "outputs": [],
   "source": [
    "base_path = 'TA_DS'\n",
    "clean_path = 'TA_DS_clean'"
   ],
   "metadata": {
    "collapsed": false,
    "ExecuteTime": {
     "end_time": "2024-06-12T14:31:55.442607200Z",
     "start_time": "2024-06-12T14:31:55.402688800Z"
    }
   },
   "id": "b881265b044505e0"
  },
  {
   "cell_type": "code",
   "execution_count": 3,
   "outputs": [],
   "source": [
    "output_path = 'summary.txt'\n",
    "with open(output_path, 'w') as f:\n",
    "    for file_name in os.listdir(clean_path):\n",
    "        if file_name.endswith('.csv'):\n",
    "            file_path = os.path.join(clean_path, file_name)\n",
    "            df = pd.read_csv(file_path)\n",
    "\n",
    "            q1_rating = df['rating'].quantile(0.25)\n",
    "            q1_user_ratings_total = df['user_ratings_total'].quantile(0.25)\n",
    "\n",
    "            above_q1_rating = (df['rating'] > q1_rating).sum()\n",
    "            below_q1_rating = (df['rating'] < q1_rating).sum()\n",
    "\n",
    "            above_q1_user_ratings_total = (df['user_ratings_total'] > q1_user_ratings_total).sum()\n",
    "            below_q1_user_ratings_total = (df['user_ratings_total'] < q1_user_ratings_total).sum()\n",
    "\n",
    "            f.write(f\"Processing {file_path}\\n\")\n",
    "            f.write(f\"Data points above first quartile rating: {above_q1_rating}\\n\")\n",
    "            f.write(f\"Data points below first quartile rating: {below_q1_rating}\\n\")\n",
    "            f.write(f\"Data points above first quartile user ratings total: {above_q1_user_ratings_total}\\n\")\n",
    "            f.write(f\"Data points below first quartile user ratings total: {below_q1_user_ratings_total}\\n\\n\")\n"
   ],
   "metadata": {
    "collapsed": false,
    "ExecuteTime": {
     "end_time": "2024-06-12T14:32:02.028067800Z",
     "start_time": "2024-06-12T14:31:56.442712100Z"
    }
   },
   "id": "f45b3e26a5d811e4"
  },
  {
   "cell_type": "code",
   "execution_count": 4,
   "outputs": [
    {
     "name": "stdout",
     "output_type": "stream",
     "text": [
      "Processed all files and saved counts in count.txt\n"
     ]
    }
   ],
   "source": [
    "with open('count.txt', 'w') as count_file:\n",
    "    for file_name in os.listdir(clean_path):\n",
    "        if file_name.endswith('.csv'):\n",
    "            file_path = os.path.join(clean_path, file_name)\n",
    "            df = pd.read_csv(file_path)\n",
    "\n",
    "            # Log the initial number of entries\n",
    "            initial_count = df.shape[0]\n",
    "\n",
    "            # Calculate first quartiles\n",
    "            q1_rating = df['rating'].quantile(0.25)\n",
    "            q1_user_ratings_total = df['user_ratings_total'].quantile(0.25)\n",
    "\n",
    "            # Apply filtering based on first quartile values\n",
    "            filtered_df = df[(df['rating'] >= q1_rating) & (df['user_ratings_total'] >= q1_user_ratings_total)]\n",
    "            filtered_count = filtered_df.shape[0]\n",
    "\n",
    "            # Write the counts of original and filtered data to the count.txt file\n",
    "            count_file.write(f\"{file_name}: Before filtering = {initial_count}, After filtering = {filtered_count}\\n\")\n",
    "\n",
    "            # Overwrite the original file with the filtered data\n",
    "            filtered_df.to_csv(file_path, index=False)\n",
    "\n",
    "    print(\"Processed all files and saved counts in count.txt\")"
   ],
   "metadata": {
    "collapsed": false,
    "ExecuteTime": {
     "end_time": "2024-06-12T14:32:10.101672100Z",
     "start_time": "2024-06-12T14:32:02.037140500Z"
    }
   },
   "id": "99721d7a30cc28eb"
  },
  {
   "cell_type": "code",
   "execution_count": 5,
   "outputs": [
    {
     "name": "stdout",
     "output_type": "stream",
     "text": [
      "Processed all files and saved counts in count2.txt\n"
     ]
    }
   ],
   "source": [
    "with open('count2.txt', 'w') as count_file:\n",
    "    for file_name in os.listdir(clean_path):\n",
    "        if file_name.endswith('.csv'):\n",
    "            file_path = os.path.join(clean_path, file_name)\n",
    "            df = pd.read_csv(file_path)\n",
    "\n",
    "            # Log the initial number of entries\n",
    "            initial_count = df.shape[0]\n",
    "\n",
    "            # Filter entries where user_ratings_total is not 0\n",
    "            filtered_df = df[df['user_ratings_total'] != 0]\n",
    "            filtered_count = filtered_df.shape[0]\n",
    "\n",
    "            # Write the counts of original and filtered data to the count2.txt file\n",
    "            count_file.write(f\"{file_name}: Before filtering = {initial_count}, After filtering = {filtered_count}\\n\")\n",
    "\n",
    "            # Overwrite the original file with the filtered data\n",
    "            filtered_df.to_csv(file_path, index=False)\n",
    "\n",
    "    print(\"Processed all files and saved counts in count2.txt\")"
   ],
   "metadata": {
    "collapsed": false,
    "ExecuteTime": {
     "end_time": "2024-06-12T14:37:02.754479Z",
     "start_time": "2024-06-12T14:36:55.809759800Z"
    }
   },
   "id": "b78eef39a0a16e51"
  }
 ],
 "metadata": {
  "kernelspec": {
   "display_name": "Python 3",
   "language": "python",
   "name": "python3"
  },
  "language_info": {
   "codemirror_mode": {
    "name": "ipython",
    "version": 2
   },
   "file_extension": ".py",
   "mimetype": "text/x-python",
   "name": "python",
   "nbconvert_exporter": "python",
   "pygments_lexer": "ipython2",
   "version": "2.7.6"
  }
 },
 "nbformat": 4,
 "nbformat_minor": 5
}
